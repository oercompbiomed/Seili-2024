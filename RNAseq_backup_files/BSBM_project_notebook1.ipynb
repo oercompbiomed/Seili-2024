{
 "cells": [
  {
   "cell_type": "markdown",
   "id": "4d7121d4-b46c-441b-b6ae-b0af8b801c53",
   "metadata": {},
   "source": [
    "# Baltic Sea BioMed summer school: PROJECT WORK, DAY 1\n",
    "This notebook contains analysis of RNA-seq data generated from human liver cancer cell line **[HEPG2](https://en.wikipedia.org/wiki/Hep_G2)**, that is commonly used model for liver toxicity. Cells have been treated with DMSO (control), PCB118 or PCB153 for 24 hours. PCB118 and PCB153 are **[polychlorinated biphenyls](https://en.wikipedia.org/wiki/Polychlorinated_biphenyl)**. RNA-seq libraries are produced from mRNAs, mapped to human genome hg38 and differential gene expression (DGE) is analyzed with **[DESeq2](https://genomebiology.biomedcentral.com/articles/10.1186/s13059-014-0550-8)** and using DMSO as a reference.  \n",
    "\n",
    "  **DAY 1:** We'll get familiar with the data and produce various common visualizations.  \n",
    "  **DAY 2:** We'll do gene-set enrichment analysis (GSEA) and predict upstream transcription regulators using Lisa online tool. "
   ]
  },
  {
   "cell_type": "markdown",
   "id": "c1d0d6cc-aea6-4dac-a030-211eab3c1bd3",
   "metadata": {},
   "source": [
    "## 1. Load Libraries and import RNA-seq data\n",
    "We start by loading necessary libraries for data visualizations and analyses."
   ]
  },
  {
   "cell_type": "code",
   "execution_count": 1,
   "id": "6f12672c-94bd-4f5b-9dd2-275e1cc4b280",
   "metadata": {},
   "outputs": [],
   "source": [
    "## install libraries if not installed already\n",
    "# install.packages(\"ggplot2\")\n",
    "# install.packages(\"ggrepel\")\n",
    "# install.packages(\"gridExtra\")\n",
    "\n",
    "## these come from bioconductor and you need to install BiocManager first \n",
    "# if (!require(\"BiocManager\", quietly = TRUE))\n",
    "#     install.packages(\"BiocManager\")\n",
    "\n",
    "# BiocManager::install(\"ComplexHeatmap\")\n",
    "# BiocManager::install(\"clusterProfiler\")\n",
    "# BiocManager::install(\"enrichplot\")"
   ]
  },
  {
   "cell_type": "code",
   "execution_count": 2,
   "id": "d2262af6-005e-4ff8-bbf5-985304b10663",
   "metadata": {
    "scrolled": true
   },
   "outputs": [
    {
     "name": "stderr",
     "output_type": "stream",
     "text": [
      "Warning message:\n",
      "\"package 'ggplot2' was built under R version 4.2.3\"\n",
      "Loading required package: grid\n",
      "\n",
      "========================================\n",
      "ComplexHeatmap version 2.14.0\n",
      "Bioconductor page: http://bioconductor.org/packages/ComplexHeatmap/\n",
      "Github page: https://github.com/jokergoo/ComplexHeatmap\n",
      "Documentation: http://jokergoo.github.io/ComplexHeatmap-reference\n",
      "\n",
      "If you use it in published research, please cite either one:\n",
      "- Gu, Z. Complex Heatmap Visualization. iMeta 2022.\n",
      "- Gu, Z. Complex heatmaps reveal patterns and correlations in multidimensional \n",
      "    genomic data. Bioinformatics 2016.\n",
      "\n",
      "\n",
      "The new InteractiveComplexHeatmap package can directly export static \n",
      "complex heatmaps into an interactive Shiny app with zero effort. Have a try!\n",
      "\n",
      "This message can be suppressed by:\n",
      "  suppressPackageStartupMessages(library(ComplexHeatmap))\n",
      "========================================\n",
      "\n",
      "\n",
      "Warning message:\n",
      "\"package 'ggrepel' was built under R version 4.2.3\"\n",
      "Warning message:\n",
      "\"package 'gridExtra' was built under R version 4.2.3\"\n",
      "\n",
      "\n",
      "Registered S3 methods overwritten by 'treeio':\n",
      "  method              from    \n",
      "  MRCA.phylo          tidytree\n",
      "  MRCA.treedata       tidytree\n",
      "  Nnode.treedata      tidytree\n",
      "  Ntip.treedata       tidytree\n",
      "  ancestor.phylo      tidytree\n",
      "  ancestor.treedata   tidytree\n",
      "  child.phylo         tidytree\n",
      "  child.treedata      tidytree\n",
      "  full_join.phylo     tidytree\n",
      "  full_join.treedata  tidytree\n",
      "  groupClade.phylo    tidytree\n",
      "  groupClade.treedata tidytree\n",
      "  groupOTU.phylo      tidytree\n",
      "  groupOTU.treedata   tidytree\n",
      "  is.rooted.treedata  tidytree\n",
      "  nodeid.phylo        tidytree\n",
      "  nodeid.treedata     tidytree\n",
      "  nodelab.phylo       tidytree\n",
      "  nodelab.treedata    tidytree\n",
      "  offspring.phylo     tidytree\n",
      "  offspring.treedata  tidytree\n",
      "  parent.phylo        tidytree\n",
      "  parent.treedata     tidytree\n",
      "  root.treedata       tidytree\n",
      "  rootnode.phylo      tidytree\n",
      "  sibling.phylo       tidytree\n",
      "\n",
      "clusterProfiler v4.6.2  For help: https://yulab-smu.top/biomedical-knowledge-mining-book/\n",
      "\n",
      "If you use clusterProfiler in published research, please cite:\n",
      "T Wu, E Hu, S Xu, M Chen, P Guo, Z Dai, T Feng, L Zhou, W Tang, L Zhan, X Fu, S Liu, X Bo, and G Yu. clusterProfiler 4.0: A universal enrichment tool for interpreting omics data. The Innovation. 2021, 2(3):100141\n",
      "\n",
      "\n",
      "Attaching package: 'clusterProfiler'\n",
      "\n",
      "\n",
      "The following object is masked from 'package:stats':\n",
      "\n",
      "    filter\n",
      "\n",
      "\n",
      "Warning message:\n",
      "\"package 'enrichplot' was built under R version 4.2.3\"\n"
     ]
    }
   ],
   "source": [
    "## load libraries\n",
    "# these are needed for visualizations\n",
    "library(ggplot2)\n",
    "library(ComplexHeatmap)\n",
    "library(ggrepel)\n",
    "library(gridExtra)\n",
    "\n",
    "# these are used in GSEA analysis\n",
    "library(clusterProfiler)\n",
    "library(enrichplot)\n",
    "\n",
    "# these libraries contain pre-made color palettes - not necessary for this task but nice to know :)\n",
    "# library(RColorBrewer) # display.brewer.all(), brewer.pal(n = 7, name = \"RdYlBu\")\n",
    "# library(wesanderson) # color palettes from Wes Anderson movies, names(wes_palettes), wes_palette(\"GrandBudapest2\")\n"
   ]
  },
  {
   "cell_type": "markdown",
   "id": "0001e124-9a61-4097-b732-3ade8bf8048c",
   "metadata": {},
   "source": [
    "Next step is to import RNA-seq data. This data contains both numeric and character information and will be imported to R as a data.frame. We'll first define a variable called \"home_dir\" to set the home directory for the notebook. Other directories will be defined relative to this location. We'll set home_dir to current working directory with `getwd()` function. This works if you have opened the notebook in the BSBM_project directory.  \n",
    "Then we'll use `dim()` function to check dimensions (number of rows and columns) of the data. `print()` and `paste0()` are used to report number of rows and columns in output."
   ]
  },
  {
   "cell_type": "code",
   "execution_count": 3,
   "id": "100200a4-55ad-4b46-b15e-deb1c04889a6",
   "metadata": {},
   "outputs": [
    {
     "data": {
      "text/html": [
       "'C:/Users/einarin/Documents/BSBM_project/Day1_RNAseq_visualizations'"
      ],
      "text/latex": [
       "'C:/Users/einarin/Documents/BSBM\\_project/Day1\\_RNAseq\\_visualizations'"
      ],
      "text/markdown": [
       "'C:/Users/einarin/Documents/BSBM_project/Day1_RNAseq_visualizations'"
      ],
      "text/plain": [
       "[1] \"C:/Users/einarin/Documents/BSBM_project/Day1_RNAseq_visualizations\""
      ]
     },
     "metadata": {},
     "output_type": "display_data"
    },
    {
     "data": {
      "text/html": [
       "<style>\n",
       ".list-inline {list-style: none; margin:0; padding: 0}\n",
       ".list-inline>li {display: inline-block}\n",
       ".list-inline>li:not(:last-child)::after {content: \"\\00b7\"; padding: 0 .5ex}\n",
       "</style>\n",
       "<ol class=list-inline><li>28256</li><li>17</li></ol>\n"
      ],
      "text/latex": [
       "\\begin{enumerate*}\n",
       "\\item 28256\n",
       "\\item 17\n",
       "\\end{enumerate*}\n"
      ],
      "text/markdown": [
       "1. 28256\n",
       "2. 17\n",
       "\n",
       "\n"
      ],
      "text/plain": [
       "[1] 28256    17"
      ]
     },
     "metadata": {},
     "output_type": "display_data"
    },
    {
     "name": "stdout",
     "output_type": "stream",
     "text": [
      "[1] \"Number of rows is: 28256 and number of columns is: 17\"\n"
     ]
    }
   ],
   "source": [
    "# set home directory as current working directory. Other directories are defined relative to this location. This should work if you opened the notebook in BSBM_project.\n",
    "home_dir <- getwd()\n",
    "home_dir\n",
    "\n",
    "# RNA-seq data is located at data folder within the home_dir. We'll use paste0\n",
    "df <- read.delim(paste0(home_dir,\"/HEPG2_RNAseq.tsv\"))\n",
    "\n",
    "# with dim() you can output dimensions (rows and columns) of your data\n",
    "dim(df)\n",
    "\n",
    "# dim() can be used to capture number of rows (first item) or columns (second item) in R object (this is often handy)\n",
    "n_rows <- dim(df)[1]\n",
    "n_cols <- dim(df)[2]\n",
    "\n",
    "print(paste0(\"Number of rows is: \",n_rows, \" and number of columns is: \", n_cols))"
   ]
  },
  {
   "cell_type": "markdown",
   "id": "703749f3-0f70-4614-959d-82e838f5ccd7",
   "metadata": {},
   "source": [
    "Let's next explore our RNA-seq data object (df) a bit to see what kind of information we have and how it is structured.  \n",
    "With `class()` you can see the type (\"class\") of the R object. In this case it is data.frame.  \n",
    "With `colnames()` you can print column names.  \n",
    "With `str()` you can see the structure of an R object. The output includes information on data type that is stored in each column.  \n",
    "With `head()` you can print the first 6 rows of the data."
   ]
  },
  {
   "cell_type": "code",
   "execution_count": 4,
   "id": "fe08b1f1-565b-46d7-8d00-b03289dd39c5",
   "metadata": {},
   "outputs": [
    {
     "data": {
      "text/html": [
       "'data.frame'"
      ],
      "text/latex": [
       "'data.frame'"
      ],
      "text/markdown": [
       "'data.frame'"
      ],
      "text/plain": [
       "[1] \"data.frame\""
      ]
     },
     "metadata": {},
     "output_type": "display_data"
    },
    {
     "data": {
      "text/html": [
       "<style>\n",
       ".list-inline {list-style: none; margin:0; padding: 0}\n",
       ".list-inline>li {display: inline-block}\n",
       ".list-inline>li:not(:last-child)::after {content: \"\\00b7\"; padding: 0 .5ex}\n",
       "</style>\n",
       "<ol class=list-inline><li>'symbol'</li><li>'Annotation.Divergence'</li><li>'DMSO.50nM_vs_PCB118.50microM_Log2_Fold_Change'</li><li>'DMSO.50nM_vs_PCB118.50microM_pvalue'</li><li>'DMSO.50nM_vs_PCB118.50microM_adj_pvalue'</li><li>'DMSO.50nM_vs_PCB153.50microM_Log2_Fold_Change'</li><li>'DMSO.50nM_vs_PCB153.50microM_pvalue'</li><li>'DMSO.50nM_vs_PCB153.50microM_adj_pvalue'</li><li>'TPM_HEPG2_RNAseq_DMSO.50nM_rep1'</li><li>'TPM_HEPG2_RNAseq_DMSO.50nM_rep2'</li><li>'TPM_HEPG2_RNAseq_DMSO.50nM_rep3'</li><li>'TPM_HEPG2_RNAseq_PCB118.50microM_rep1'</li><li>'TPM_HEPG2_RNAseq_PCB118.50microM_rep2'</li><li>'TPM_HEPG2_RNAseq_PCB118.50microM_rep3'</li><li>'TPM_HEPG2_RNAseq_PCB153.50microM_rep1'</li><li>'TPM_HEPG2_RNAseq_PCB153.50microM_rep2'</li><li>'TPM_HEPG2_RNAseq_PCB153.50microM_rep3'</li></ol>\n"
      ],
      "text/latex": [
       "\\begin{enumerate*}\n",
       "\\item 'symbol'\n",
       "\\item 'Annotation.Divergence'\n",
       "\\item 'DMSO.50nM\\_vs\\_PCB118.50microM\\_Log2\\_Fold\\_Change'\n",
       "\\item 'DMSO.50nM\\_vs\\_PCB118.50microM\\_pvalue'\n",
       "\\item 'DMSO.50nM\\_vs\\_PCB118.50microM\\_adj\\_pvalue'\n",
       "\\item 'DMSO.50nM\\_vs\\_PCB153.50microM\\_Log2\\_Fold\\_Change'\n",
       "\\item 'DMSO.50nM\\_vs\\_PCB153.50microM\\_pvalue'\n",
       "\\item 'DMSO.50nM\\_vs\\_PCB153.50microM\\_adj\\_pvalue'\n",
       "\\item 'TPM\\_HEPG2\\_RNAseq\\_DMSO.50nM\\_rep1'\n",
       "\\item 'TPM\\_HEPG2\\_RNAseq\\_DMSO.50nM\\_rep2'\n",
       "\\item 'TPM\\_HEPG2\\_RNAseq\\_DMSO.50nM\\_rep3'\n",
       "\\item 'TPM\\_HEPG2\\_RNAseq\\_PCB118.50microM\\_rep1'\n",
       "\\item 'TPM\\_HEPG2\\_RNAseq\\_PCB118.50microM\\_rep2'\n",
       "\\item 'TPM\\_HEPG2\\_RNAseq\\_PCB118.50microM\\_rep3'\n",
       "\\item 'TPM\\_HEPG2\\_RNAseq\\_PCB153.50microM\\_rep1'\n",
       "\\item 'TPM\\_HEPG2\\_RNAseq\\_PCB153.50microM\\_rep2'\n",
       "\\item 'TPM\\_HEPG2\\_RNAseq\\_PCB153.50microM\\_rep3'\n",
       "\\end{enumerate*}\n"
      ],
      "text/markdown": [
       "1. 'symbol'\n",
       "2. 'Annotation.Divergence'\n",
       "3. 'DMSO.50nM_vs_PCB118.50microM_Log2_Fold_Change'\n",
       "4. 'DMSO.50nM_vs_PCB118.50microM_pvalue'\n",
       "5. 'DMSO.50nM_vs_PCB118.50microM_adj_pvalue'\n",
       "6. 'DMSO.50nM_vs_PCB153.50microM_Log2_Fold_Change'\n",
       "7. 'DMSO.50nM_vs_PCB153.50microM_pvalue'\n",
       "8. 'DMSO.50nM_vs_PCB153.50microM_adj_pvalue'\n",
       "9. 'TPM_HEPG2_RNAseq_DMSO.50nM_rep1'\n",
       "10. 'TPM_HEPG2_RNAseq_DMSO.50nM_rep2'\n",
       "11. 'TPM_HEPG2_RNAseq_DMSO.50nM_rep3'\n",
       "12. 'TPM_HEPG2_RNAseq_PCB118.50microM_rep1'\n",
       "13. 'TPM_HEPG2_RNAseq_PCB118.50microM_rep2'\n",
       "14. 'TPM_HEPG2_RNAseq_PCB118.50microM_rep3'\n",
       "15. 'TPM_HEPG2_RNAseq_PCB153.50microM_rep1'\n",
       "16. 'TPM_HEPG2_RNAseq_PCB153.50microM_rep2'\n",
       "17. 'TPM_HEPG2_RNAseq_PCB153.50microM_rep3'\n",
       "\n",
       "\n"
      ],
      "text/plain": [
       " [1] \"symbol\"                                       \n",
       " [2] \"Annotation.Divergence\"                        \n",
       " [3] \"DMSO.50nM_vs_PCB118.50microM_Log2_Fold_Change\"\n",
       " [4] \"DMSO.50nM_vs_PCB118.50microM_pvalue\"          \n",
       " [5] \"DMSO.50nM_vs_PCB118.50microM_adj_pvalue\"      \n",
       " [6] \"DMSO.50nM_vs_PCB153.50microM_Log2_Fold_Change\"\n",
       " [7] \"DMSO.50nM_vs_PCB153.50microM_pvalue\"          \n",
       " [8] \"DMSO.50nM_vs_PCB153.50microM_adj_pvalue\"      \n",
       " [9] \"TPM_HEPG2_RNAseq_DMSO.50nM_rep1\"              \n",
       "[10] \"TPM_HEPG2_RNAseq_DMSO.50nM_rep2\"              \n",
       "[11] \"TPM_HEPG2_RNAseq_DMSO.50nM_rep3\"              \n",
       "[12] \"TPM_HEPG2_RNAseq_PCB118.50microM_rep1\"        \n",
       "[13] \"TPM_HEPG2_RNAseq_PCB118.50microM_rep2\"        \n",
       "[14] \"TPM_HEPG2_RNAseq_PCB118.50microM_rep3\"        \n",
       "[15] \"TPM_HEPG2_RNAseq_PCB153.50microM_rep1\"        \n",
       "[16] \"TPM_HEPG2_RNAseq_PCB153.50microM_rep2\"        \n",
       "[17] \"TPM_HEPG2_RNAseq_PCB153.50microM_rep3\"        "
      ]
     },
     "metadata": {},
     "output_type": "display_data"
    },
    {
     "name": "stdout",
     "output_type": "stream",
     "text": [
      "'data.frame':\t28256 obs. of  17 variables:\n",
      " $ symbol                                       : chr  \"A1BG\" \"A1BG-AS1\" \"A1CF\" \"A2M\" ...\n",
      " $ Annotation.Divergence                        : chr  \"A1BG|A1B|ABG|GAB|HYST2477|-|19q13.43|protein-coding\" \"A1BG-AS1|A1BG-AS|A1BGAS|NCRNA00181|-|19q13.43|ncRNA\" \"A1CF|ACF|ACF64|ACF65|APOBEC1CF|ASP|-|10q11.23|protein-coding\" \"A2M|A2MD|CPAMD5|FWP007|S863-7|-|12p13.31|protein-coding\" ...\n",
      " $ DMSO.50nM_vs_PCB118.50microM_Log2_Fold_Change: num  1.576 1.157 -1.366 -0.625 1.302 ...\n",
      " $ DMSO.50nM_vs_PCB118.50microM_pvalue          : num  1.51e-49 2.94e-18 4.63e-49 7.20e-34 7.90e-56 ...\n",
      " $ DMSO.50nM_vs_PCB118.50microM_adj_pvalue      : num  5.22e-48 2.18e-17 1.58e-47 1.23e-32 3.34e-54 ...\n",
      " $ DMSO.50nM_vs_PCB153.50microM_Log2_Fold_Change: num  1.972 1.301 -1.828 -0.519 2.526 ...\n",
      " $ DMSO.50nM_vs_PCB153.50microM_pvalue          : num  1.20e-99 2.34e-23 3.26e-73 4.64e-19 1.63e-186 ...\n",
      " $ DMSO.50nM_vs_PCB153.50microM_adj_pvalue      : num  6.88e-98 1.94e-22 1.17e-71 3.18e-18 3.34e-184 ...\n",
      " $ TPM_HEPG2_RNAseq_DMSO.50nM_rep1              : num  30.86 33.08 7.68 554.66 127.22 ...\n",
      " $ TPM_HEPG2_RNAseq_DMSO.50nM_rep2              : num  35.3 38.1 7.6 544 126.6 ...\n",
      " $ TPM_HEPG2_RNAseq_DMSO.50nM_rep3              : num  32.73 35.9 7.59 578.13 140.1 ...\n",
      " $ TPM_HEPG2_RNAseq_PCB118.50microM_rep1        : num  77.17 64.95 3.14 334.82 289.21 ...\n",
      " $ TPM_HEPG2_RNAseq_PCB118.50microM_rep2        : num  91.56 72.07 2.52 321.07 308.7 ...\n",
      " $ TPM_HEPG2_RNAseq_PCB118.50microM_rep3        : num  95.3 76.6 2.4 324.6 276.5 ...\n",
      " $ TPM_HEPG2_RNAseq_PCB153.50microM_rep1        : num  82.53 54.11 1.29 244.19 484.66 ...\n",
      " $ TPM_HEPG2_RNAseq_PCB153.50microM_rep2        : num  75.19 55.52 1.44 237.66 429.95 ...\n",
      " $ TPM_HEPG2_RNAseq_PCB153.50microM_rep3        : num  84.92 56.11 1.36 258.01 508.77 ...\n"
     ]
    },
    {
     "data": {
      "text/html": [
       "<table class=\"dataframe\">\n",
       "<caption>A data.frame: 6 × 17</caption>\n",
       "<thead>\n",
       "\t<tr><th></th><th scope=col>symbol</th><th scope=col>Annotation.Divergence</th><th scope=col>DMSO.50nM_vs_PCB118.50microM_Log2_Fold_Change</th><th scope=col>DMSO.50nM_vs_PCB118.50microM_pvalue</th><th scope=col>DMSO.50nM_vs_PCB118.50microM_adj_pvalue</th><th scope=col>DMSO.50nM_vs_PCB153.50microM_Log2_Fold_Change</th><th scope=col>DMSO.50nM_vs_PCB153.50microM_pvalue</th><th scope=col>DMSO.50nM_vs_PCB153.50microM_adj_pvalue</th><th scope=col>TPM_HEPG2_RNAseq_DMSO.50nM_rep1</th><th scope=col>TPM_HEPG2_RNAseq_DMSO.50nM_rep2</th><th scope=col>TPM_HEPG2_RNAseq_DMSO.50nM_rep3</th><th scope=col>TPM_HEPG2_RNAseq_PCB118.50microM_rep1</th><th scope=col>TPM_HEPG2_RNAseq_PCB118.50microM_rep2</th><th scope=col>TPM_HEPG2_RNAseq_PCB118.50microM_rep3</th><th scope=col>TPM_HEPG2_RNAseq_PCB153.50microM_rep1</th><th scope=col>TPM_HEPG2_RNAseq_PCB153.50microM_rep2</th><th scope=col>TPM_HEPG2_RNAseq_PCB153.50microM_rep3</th></tr>\n",
       "\t<tr><th></th><th scope=col>&lt;chr&gt;</th><th scope=col>&lt;chr&gt;</th><th scope=col>&lt;dbl&gt;</th><th scope=col>&lt;dbl&gt;</th><th scope=col>&lt;dbl&gt;</th><th scope=col>&lt;dbl&gt;</th><th scope=col>&lt;dbl&gt;</th><th scope=col>&lt;dbl&gt;</th><th scope=col>&lt;dbl&gt;</th><th scope=col>&lt;dbl&gt;</th><th scope=col>&lt;dbl&gt;</th><th scope=col>&lt;dbl&gt;</th><th scope=col>&lt;dbl&gt;</th><th scope=col>&lt;dbl&gt;</th><th scope=col>&lt;dbl&gt;</th><th scope=col>&lt;dbl&gt;</th><th scope=col>&lt;dbl&gt;</th></tr>\n",
       "</thead>\n",
       "<tbody>\n",
       "\t<tr><th scope=row>1</th><td>A1BG    </td><td>A1BG|A1B|ABG|GAB|HYST2477|-|19q13.43|protein-coding         </td><td> 1.5761614</td><td>1.509063e-49</td><td>5.224379e-48</td><td> 1.9720146</td><td> 1.196672e-99</td><td> 6.878058e-98</td><td> 30.862</td><td> 35.344</td><td> 32.726</td><td> 77.175</td><td> 91.565</td><td> 95.309</td><td> 82.530</td><td> 75.188</td><td> 84.919</td></tr>\n",
       "\t<tr><th scope=row>2</th><td>A1BG-AS1</td><td>A1BG-AS1|A1BG-AS|A1BGAS|NCRNA00181|-|19q13.43|ncRNA         </td><td> 1.1569020</td><td>2.943363e-18</td><td>2.182792e-17</td><td> 1.3009398</td><td> 2.340893e-23</td><td> 1.944980e-22</td><td> 33.084</td><td> 38.101</td><td> 35.895</td><td> 64.953</td><td> 72.073</td><td> 76.559</td><td> 54.110</td><td> 55.516</td><td> 56.113</td></tr>\n",
       "\t<tr><th scope=row>3</th><td>A1CF    </td><td>A1CF|ACF|ACF64|ACF65|APOBEC1CF|ASP|-|10q11.23|protein-coding</td><td>-1.3663567</td><td>4.632217e-49</td><td>1.581539e-47</td><td>-1.8278661</td><td> 3.258755e-73</td><td> 1.168657e-71</td><td>  7.676</td><td>  7.599</td><td>  7.589</td><td>  3.137</td><td>  2.525</td><td>  2.405</td><td>  1.291</td><td>  1.438</td><td>  1.356</td></tr>\n",
       "\t<tr><th scope=row>4</th><td>A2M     </td><td>A2M|A2MD|CPAMD5|FWP007|S863-7|-|12p13.31|protein-coding     </td><td>-0.6247243</td><td>7.203976e-34</td><td>1.225146e-32</td><td>-0.5191154</td><td> 4.642841e-19</td><td> 3.175104e-18</td><td>554.664</td><td>544.031</td><td>578.127</td><td>334.824</td><td>321.066</td><td>324.612</td><td>244.193</td><td>237.656</td><td>258.009</td></tr>\n",
       "\t<tr><th scope=row>5</th><td>A2M-AS1 </td><td>A2M-AS1|-|-|12p13.31|ncRNA                                  </td><td> 1.3022934</td><td>7.901449e-56</td><td>3.341030e-54</td><td> 2.5257830</td><td>1.630722e-186</td><td>3.341464e-184</td><td>127.222</td><td>126.615</td><td>140.101</td><td>289.211</td><td>308.704</td><td>276.549</td><td>484.658</td><td>429.954</td><td>508.773</td></tr>\n",
       "\t<tr><th scope=row>6</th><td>A2ML1   </td><td>A2ML1|CPAMD9|OMS|p170|-|12p13.31|protein-coding             </td><td>-1.7185580</td><td>1.368091e-01</td><td>1.976353e-01</td><td>-1.1545600</td><td> 3.009693e-01</td><td> 3.917405e-01</td><td>  0.053</td><td>  0.041</td><td>  0.089</td><td>  0.022</td><td>  0.015</td><td>  0.008</td><td>  0.008</td><td>  0.064</td><td>  0.010</td></tr>\n",
       "</tbody>\n",
       "</table>\n"
      ],
      "text/latex": [
       "A data.frame: 6 × 17\n",
       "\\begin{tabular}{r|lllllllllllllllll}\n",
       "  & symbol & Annotation.Divergence & DMSO.50nM\\_vs\\_PCB118.50microM\\_Log2\\_Fold\\_Change & DMSO.50nM\\_vs\\_PCB118.50microM\\_pvalue & DMSO.50nM\\_vs\\_PCB118.50microM\\_adj\\_pvalue & DMSO.50nM\\_vs\\_PCB153.50microM\\_Log2\\_Fold\\_Change & DMSO.50nM\\_vs\\_PCB153.50microM\\_pvalue & DMSO.50nM\\_vs\\_PCB153.50microM\\_adj\\_pvalue & TPM\\_HEPG2\\_RNAseq\\_DMSO.50nM\\_rep1 & TPM\\_HEPG2\\_RNAseq\\_DMSO.50nM\\_rep2 & TPM\\_HEPG2\\_RNAseq\\_DMSO.50nM\\_rep3 & TPM\\_HEPG2\\_RNAseq\\_PCB118.50microM\\_rep1 & TPM\\_HEPG2\\_RNAseq\\_PCB118.50microM\\_rep2 & TPM\\_HEPG2\\_RNAseq\\_PCB118.50microM\\_rep3 & TPM\\_HEPG2\\_RNAseq\\_PCB153.50microM\\_rep1 & TPM\\_HEPG2\\_RNAseq\\_PCB153.50microM\\_rep2 & TPM\\_HEPG2\\_RNAseq\\_PCB153.50microM\\_rep3\\\\\n",
       "  & <chr> & <chr> & <dbl> & <dbl> & <dbl> & <dbl> & <dbl> & <dbl> & <dbl> & <dbl> & <dbl> & <dbl> & <dbl> & <dbl> & <dbl> & <dbl> & <dbl>\\\\\n",
       "\\hline\n",
       "\t1 & A1BG     & A1BG\\textbar{}A1B\\textbar{}ABG\\textbar{}GAB\\textbar{}HYST2477\\textbar{}-\\textbar{}19q13.43\\textbar{}protein-coding          &  1.5761614 & 1.509063e-49 & 5.224379e-48 &  1.9720146 &  1.196672e-99 &  6.878058e-98 &  30.862 &  35.344 &  32.726 &  77.175 &  91.565 &  95.309 &  82.530 &  75.188 &  84.919\\\\\n",
       "\t2 & A1BG-AS1 & A1BG-AS1\\textbar{}A1BG-AS\\textbar{}A1BGAS\\textbar{}NCRNA00181\\textbar{}-\\textbar{}19q13.43\\textbar{}ncRNA          &  1.1569020 & 2.943363e-18 & 2.182792e-17 &  1.3009398 &  2.340893e-23 &  1.944980e-22 &  33.084 &  38.101 &  35.895 &  64.953 &  72.073 &  76.559 &  54.110 &  55.516 &  56.113\\\\\n",
       "\t3 & A1CF     & A1CF\\textbar{}ACF\\textbar{}ACF64\\textbar{}ACF65\\textbar{}APOBEC1CF\\textbar{}ASP\\textbar{}-\\textbar{}10q11.23\\textbar{}protein-coding & -1.3663567 & 4.632217e-49 & 1.581539e-47 & -1.8278661 &  3.258755e-73 &  1.168657e-71 &   7.676 &   7.599 &   7.589 &   3.137 &   2.525 &   2.405 &   1.291 &   1.438 &   1.356\\\\\n",
       "\t4 & A2M      & A2M\\textbar{}A2MD\\textbar{}CPAMD5\\textbar{}FWP007\\textbar{}S863-7\\textbar{}-\\textbar{}12p13.31\\textbar{}protein-coding      & -0.6247243 & 7.203976e-34 & 1.225146e-32 & -0.5191154 &  4.642841e-19 &  3.175104e-18 & 554.664 & 544.031 & 578.127 & 334.824 & 321.066 & 324.612 & 244.193 & 237.656 & 258.009\\\\\n",
       "\t5 & A2M-AS1  & A2M-AS1\\textbar{}-\\textbar{}-\\textbar{}12p13.31\\textbar{}ncRNA                                   &  1.3022934 & 7.901449e-56 & 3.341030e-54 &  2.5257830 & 1.630722e-186 & 3.341464e-184 & 127.222 & 126.615 & 140.101 & 289.211 & 308.704 & 276.549 & 484.658 & 429.954 & 508.773\\\\\n",
       "\t6 & A2ML1    & A2ML1\\textbar{}CPAMD9\\textbar{}OMS\\textbar{}p170\\textbar{}-\\textbar{}12p13.31\\textbar{}protein-coding              & -1.7185580 & 1.368091e-01 & 1.976353e-01 & -1.1545600 &  3.009693e-01 &  3.917405e-01 &   0.053 &   0.041 &   0.089 &   0.022 &   0.015 &   0.008 &   0.008 &   0.064 &   0.010\\\\\n",
       "\\end{tabular}\n"
      ],
      "text/markdown": [
       "\n",
       "A data.frame: 6 × 17\n",
       "\n",
       "| <!--/--> | symbol &lt;chr&gt; | Annotation.Divergence &lt;chr&gt; | DMSO.50nM_vs_PCB118.50microM_Log2_Fold_Change &lt;dbl&gt; | DMSO.50nM_vs_PCB118.50microM_pvalue &lt;dbl&gt; | DMSO.50nM_vs_PCB118.50microM_adj_pvalue &lt;dbl&gt; | DMSO.50nM_vs_PCB153.50microM_Log2_Fold_Change &lt;dbl&gt; | DMSO.50nM_vs_PCB153.50microM_pvalue &lt;dbl&gt; | DMSO.50nM_vs_PCB153.50microM_adj_pvalue &lt;dbl&gt; | TPM_HEPG2_RNAseq_DMSO.50nM_rep1 &lt;dbl&gt; | TPM_HEPG2_RNAseq_DMSO.50nM_rep2 &lt;dbl&gt; | TPM_HEPG2_RNAseq_DMSO.50nM_rep3 &lt;dbl&gt; | TPM_HEPG2_RNAseq_PCB118.50microM_rep1 &lt;dbl&gt; | TPM_HEPG2_RNAseq_PCB118.50microM_rep2 &lt;dbl&gt; | TPM_HEPG2_RNAseq_PCB118.50microM_rep3 &lt;dbl&gt; | TPM_HEPG2_RNAseq_PCB153.50microM_rep1 &lt;dbl&gt; | TPM_HEPG2_RNAseq_PCB153.50microM_rep2 &lt;dbl&gt; | TPM_HEPG2_RNAseq_PCB153.50microM_rep3 &lt;dbl&gt; |\n",
       "|---|---|---|---|---|---|---|---|---|---|---|---|---|---|---|---|---|---|\n",
       "| 1 | A1BG     | A1BG|A1B|ABG|GAB|HYST2477|-|19q13.43|protein-coding          |  1.5761614 | 1.509063e-49 | 5.224379e-48 |  1.9720146 |  1.196672e-99 |  6.878058e-98 |  30.862 |  35.344 |  32.726 |  77.175 |  91.565 |  95.309 |  82.530 |  75.188 |  84.919 |\n",
       "| 2 | A1BG-AS1 | A1BG-AS1|A1BG-AS|A1BGAS|NCRNA00181|-|19q13.43|ncRNA          |  1.1569020 | 2.943363e-18 | 2.182792e-17 |  1.3009398 |  2.340893e-23 |  1.944980e-22 |  33.084 |  38.101 |  35.895 |  64.953 |  72.073 |  76.559 |  54.110 |  55.516 |  56.113 |\n",
       "| 3 | A1CF     | A1CF|ACF|ACF64|ACF65|APOBEC1CF|ASP|-|10q11.23|protein-coding | -1.3663567 | 4.632217e-49 | 1.581539e-47 | -1.8278661 |  3.258755e-73 |  1.168657e-71 |   7.676 |   7.599 |   7.589 |   3.137 |   2.525 |   2.405 |   1.291 |   1.438 |   1.356 |\n",
       "| 4 | A2M      | A2M|A2MD|CPAMD5|FWP007|S863-7|-|12p13.31|protein-coding      | -0.6247243 | 7.203976e-34 | 1.225146e-32 | -0.5191154 |  4.642841e-19 |  3.175104e-18 | 554.664 | 544.031 | 578.127 | 334.824 | 321.066 | 324.612 | 244.193 | 237.656 | 258.009 |\n",
       "| 5 | A2M-AS1  | A2M-AS1|-|-|12p13.31|ncRNA                                   |  1.3022934 | 7.901449e-56 | 3.341030e-54 |  2.5257830 | 1.630722e-186 | 3.341464e-184 | 127.222 | 126.615 | 140.101 | 289.211 | 308.704 | 276.549 | 484.658 | 429.954 | 508.773 |\n",
       "| 6 | A2ML1    | A2ML1|CPAMD9|OMS|p170|-|12p13.31|protein-coding              | -1.7185580 | 1.368091e-01 | 1.976353e-01 | -1.1545600 |  3.009693e-01 |  3.917405e-01 |   0.053 |   0.041 |   0.089 |   0.022 |   0.015 |   0.008 |   0.008 |   0.064 |   0.010 |\n",
       "\n"
      ],
      "text/plain": [
       "  symbol   Annotation.Divergence                                       \n",
       "1 A1BG     A1BG|A1B|ABG|GAB|HYST2477|-|19q13.43|protein-coding         \n",
       "2 A1BG-AS1 A1BG-AS1|A1BG-AS|A1BGAS|NCRNA00181|-|19q13.43|ncRNA         \n",
       "3 A1CF     A1CF|ACF|ACF64|ACF65|APOBEC1CF|ASP|-|10q11.23|protein-coding\n",
       "4 A2M      A2M|A2MD|CPAMD5|FWP007|S863-7|-|12p13.31|protein-coding     \n",
       "5 A2M-AS1  A2M-AS1|-|-|12p13.31|ncRNA                                  \n",
       "6 A2ML1    A2ML1|CPAMD9|OMS|p170|-|12p13.31|protein-coding             \n",
       "  DMSO.50nM_vs_PCB118.50microM_Log2_Fold_Change\n",
       "1  1.5761614                                   \n",
       "2  1.1569020                                   \n",
       "3 -1.3663567                                   \n",
       "4 -0.6247243                                   \n",
       "5  1.3022934                                   \n",
       "6 -1.7185580                                   \n",
       "  DMSO.50nM_vs_PCB118.50microM_pvalue DMSO.50nM_vs_PCB118.50microM_adj_pvalue\n",
       "1 1.509063e-49                        5.224379e-48                           \n",
       "2 2.943363e-18                        2.182792e-17                           \n",
       "3 4.632217e-49                        1.581539e-47                           \n",
       "4 7.203976e-34                        1.225146e-32                           \n",
       "5 7.901449e-56                        3.341030e-54                           \n",
       "6 1.368091e-01                        1.976353e-01                           \n",
       "  DMSO.50nM_vs_PCB153.50microM_Log2_Fold_Change\n",
       "1  1.9720146                                   \n",
       "2  1.3009398                                   \n",
       "3 -1.8278661                                   \n",
       "4 -0.5191154                                   \n",
       "5  2.5257830                                   \n",
       "6 -1.1545600                                   \n",
       "  DMSO.50nM_vs_PCB153.50microM_pvalue DMSO.50nM_vs_PCB153.50microM_adj_pvalue\n",
       "1  1.196672e-99                        6.878058e-98                          \n",
       "2  2.340893e-23                        1.944980e-22                          \n",
       "3  3.258755e-73                        1.168657e-71                          \n",
       "4  4.642841e-19                        3.175104e-18                          \n",
       "5 1.630722e-186                       3.341464e-184                          \n",
       "6  3.009693e-01                        3.917405e-01                          \n",
       "  TPM_HEPG2_RNAseq_DMSO.50nM_rep1 TPM_HEPG2_RNAseq_DMSO.50nM_rep2\n",
       "1  30.862                          35.344                        \n",
       "2  33.084                          38.101                        \n",
       "3   7.676                           7.599                        \n",
       "4 554.664                         544.031                        \n",
       "5 127.222                         126.615                        \n",
       "6   0.053                           0.041                        \n",
       "  TPM_HEPG2_RNAseq_DMSO.50nM_rep3 TPM_HEPG2_RNAseq_PCB118.50microM_rep1\n",
       "1  32.726                          77.175                              \n",
       "2  35.895                          64.953                              \n",
       "3   7.589                           3.137                              \n",
       "4 578.127                         334.824                              \n",
       "5 140.101                         289.211                              \n",
       "6   0.089                           0.022                              \n",
       "  TPM_HEPG2_RNAseq_PCB118.50microM_rep2 TPM_HEPG2_RNAseq_PCB118.50microM_rep3\n",
       "1  91.565                                95.309                              \n",
       "2  72.073                                76.559                              \n",
       "3   2.525                                 2.405                              \n",
       "4 321.066                               324.612                              \n",
       "5 308.704                               276.549                              \n",
       "6   0.015                                 0.008                              \n",
       "  TPM_HEPG2_RNAseq_PCB153.50microM_rep1 TPM_HEPG2_RNAseq_PCB153.50microM_rep2\n",
       "1  82.530                                75.188                              \n",
       "2  54.110                                55.516                              \n",
       "3   1.291                                 1.438                              \n",
       "4 244.193                               237.656                              \n",
       "5 484.658                               429.954                              \n",
       "6   0.008                                 0.064                              \n",
       "  TPM_HEPG2_RNAseq_PCB153.50microM_rep3\n",
       "1  84.919                              \n",
       "2  56.113                              \n",
       "3   1.356                              \n",
       "4 258.009                              \n",
       "5 508.773                              \n",
       "6   0.010                              "
      ]
     },
     "metadata": {},
     "output_type": "display_data"
    }
   ],
   "source": [
    "# what is the data type (class) of the df?\n",
    "class(df)\n",
    "\n",
    "# Let's see what are the column names in the data frame!\n",
    "colnames(df)\n",
    "\n",
    "# with str() function, you can see the structure of an R object. The output includes information on data type that is stored in each column.\n",
    "str(df)\n",
    "\n",
    "# with head() you can print first 6 rows of the data\n",
    "head(df)"
   ]
  },
  {
   "cell_type": "markdown",
   "id": "246dd22d-69ef-4eaa-8c97-c5b04e3af42f",
   "metadata": {},
   "source": [
    "As you can see, we have a data frame where each row corresponds to a gene and columns store different information from the RNA-seq data and DGE analysis.  \n",
    "**symbol** and **Annotation.Divergence** columns contain official gene symbol and alternative gene names.  \n",
    "\n",
    "Data from DGE analysis is stored in three columns for each comparison (DMSO vs PCB118 - or - DMSO vs PCB153):  \n",
    "**...Log2_Fold_Change** columns contain gene expression change compared to DMSO in Log2 scale (1 is twice as much expression and -1 is half the expression).  \n",
    "**...pvalue** and **...adj_pvalue** columns contain p-value and [Benjamini-Hochberg](https://en.wikipedia.org/wiki/False_discovery_rate#Benjamini%E2%80%93Hochberg_procedure) -adjusted p-value for the comparison.  \n",
    "\n",
    "  Expression is stored as transcripts per kilobase million (TPM) format. IF you are not familiar with TPM normalization, follow **[this link](https://www.rna-seqblog.com/rpkm-fpkm-and-tpm-clearly-explained/)** to learn why it is very useful and intuitive way to present gene expression.  \n",
    "  **TPM_...** Each condition (DMSO/PCB118/PCB153) has three replicates (..._rep1/2/3)."
   ]
  },
  {
   "cell_type": "markdown",
   "id": "f29ba1a5-e60c-4cb9-9aae-68d04cc54cde",
   "metadata": {},
   "source": [
    "## 2. Mark expressed genes  \n",
    "Our RNA-seq data contains all annotated genes regardless of if they are expressed in HEPG2 cells. Next we'll mark expressed genes so that we can easily select them later. This is done by adding a column called \"is_exp\" with value 0 (not expressed) or 1 (expressed). We'll consider two strategies for finding expressed genes:  \n",
    "1. Simple: is expression above cutoff value in any sample?\n",
    "2. Treatment-aware: is gene above cutoff value in all samples of one treatment type?\n",
    "\n",
    "In simple case, we utilize `apply()` function that is R's way of generating loops. You can think it as an operator that applies given function again and again for each row (or column) of the data. In this case the applied function is `max()` and it is applied to rows (parameter `MARGIN = 1` means rows, 2 would be columns). To make it simple, we ask for each row of TPM value-containing columns, if the maximum value is greater than cutoff value. Answer will be `TRUE` or `FALSE`, which is then stored to a new column (df$is_exp). Finally, `table()` function is applied to summarize content of this new column (= how many genes are expressed?).  \n",
    "\n",
    "HINT: Use `?apply` to open manual page and learn more (works with any R function)."
   ]
  },
  {
   "cell_type": "code",
   "execution_count": 5,
   "id": "99a7b3eb-cfe8-43c4-81f0-8e82067a265a",
   "metadata": {},
   "outputs": [
    {
     "data": {
      "text/html": [
       "<style>\n",
       ".list-inline {list-style: none; margin:0; padding: 0}\n",
       ".list-inline>li {display: inline-block}\n",
       ".list-inline>li:not(:last-child)::after {content: \"\\00b7\"; padding: 0 .5ex}\n",
       "</style>\n",
       "<ol class=list-inline><li>'TPM_HEPG2_RNAseq_DMSO.50nM_rep1'</li><li>'TPM_HEPG2_RNAseq_DMSO.50nM_rep2'</li><li>'TPM_HEPG2_RNAseq_DMSO.50nM_rep3'</li><li>'TPM_HEPG2_RNAseq_PCB118.50microM_rep1'</li><li>'TPM_HEPG2_RNAseq_PCB118.50microM_rep2'</li><li>'TPM_HEPG2_RNAseq_PCB118.50microM_rep3'</li><li>'TPM_HEPG2_RNAseq_PCB153.50microM_rep1'</li><li>'TPM_HEPG2_RNAseq_PCB153.50microM_rep2'</li><li>'TPM_HEPG2_RNAseq_PCB153.50microM_rep3'</li></ol>\n"
      ],
      "text/latex": [
       "\\begin{enumerate*}\n",
       "\\item 'TPM\\_HEPG2\\_RNAseq\\_DMSO.50nM\\_rep1'\n",
       "\\item 'TPM\\_HEPG2\\_RNAseq\\_DMSO.50nM\\_rep2'\n",
       "\\item 'TPM\\_HEPG2\\_RNAseq\\_DMSO.50nM\\_rep3'\n",
       "\\item 'TPM\\_HEPG2\\_RNAseq\\_PCB118.50microM\\_rep1'\n",
       "\\item 'TPM\\_HEPG2\\_RNAseq\\_PCB118.50microM\\_rep2'\n",
       "\\item 'TPM\\_HEPG2\\_RNAseq\\_PCB118.50microM\\_rep3'\n",
       "\\item 'TPM\\_HEPG2\\_RNAseq\\_PCB153.50microM\\_rep1'\n",
       "\\item 'TPM\\_HEPG2\\_RNAseq\\_PCB153.50microM\\_rep2'\n",
       "\\item 'TPM\\_HEPG2\\_RNAseq\\_PCB153.50microM\\_rep3'\n",
       "\\end{enumerate*}\n"
      ],
      "text/markdown": [
       "1. 'TPM_HEPG2_RNAseq_DMSO.50nM_rep1'\n",
       "2. 'TPM_HEPG2_RNAseq_DMSO.50nM_rep2'\n",
       "3. 'TPM_HEPG2_RNAseq_DMSO.50nM_rep3'\n",
       "4. 'TPM_HEPG2_RNAseq_PCB118.50microM_rep1'\n",
       "5. 'TPM_HEPG2_RNAseq_PCB118.50microM_rep2'\n",
       "6. 'TPM_HEPG2_RNAseq_PCB118.50microM_rep3'\n",
       "7. 'TPM_HEPG2_RNAseq_PCB153.50microM_rep1'\n",
       "8. 'TPM_HEPG2_RNAseq_PCB153.50microM_rep2'\n",
       "9. 'TPM_HEPG2_RNAseq_PCB153.50microM_rep3'\n",
       "\n",
       "\n"
      ],
      "text/plain": [
       "[1] \"TPM_HEPG2_RNAseq_DMSO.50nM_rep1\"      \n",
       "[2] \"TPM_HEPG2_RNAseq_DMSO.50nM_rep2\"      \n",
       "[3] \"TPM_HEPG2_RNAseq_DMSO.50nM_rep3\"      \n",
       "[4] \"TPM_HEPG2_RNAseq_PCB118.50microM_rep1\"\n",
       "[5] \"TPM_HEPG2_RNAseq_PCB118.50microM_rep2\"\n",
       "[6] \"TPM_HEPG2_RNAseq_PCB118.50microM_rep3\"\n",
       "[7] \"TPM_HEPG2_RNAseq_PCB153.50microM_rep1\"\n",
       "[8] \"TPM_HEPG2_RNAseq_PCB153.50microM_rep2\"\n",
       "[9] \"TPM_HEPG2_RNAseq_PCB153.50microM_rep3\""
      ]
     },
     "metadata": {},
     "output_type": "display_data"
    },
    {
     "data": {
      "text/html": [
       "<table class=\"dataframe\">\n",
       "<caption>A data.frame: 6 × 9</caption>\n",
       "<thead>\n",
       "\t<tr><th></th><th scope=col>TPM_HEPG2_RNAseq_DMSO.50nM_rep1</th><th scope=col>TPM_HEPG2_RNAseq_DMSO.50nM_rep2</th><th scope=col>TPM_HEPG2_RNAseq_DMSO.50nM_rep3</th><th scope=col>TPM_HEPG2_RNAseq_PCB118.50microM_rep1</th><th scope=col>TPM_HEPG2_RNAseq_PCB118.50microM_rep2</th><th scope=col>TPM_HEPG2_RNAseq_PCB118.50microM_rep3</th><th scope=col>TPM_HEPG2_RNAseq_PCB153.50microM_rep1</th><th scope=col>TPM_HEPG2_RNAseq_PCB153.50microM_rep2</th><th scope=col>TPM_HEPG2_RNAseq_PCB153.50microM_rep3</th></tr>\n",
       "\t<tr><th></th><th scope=col>&lt;dbl&gt;</th><th scope=col>&lt;dbl&gt;</th><th scope=col>&lt;dbl&gt;</th><th scope=col>&lt;dbl&gt;</th><th scope=col>&lt;dbl&gt;</th><th scope=col>&lt;dbl&gt;</th><th scope=col>&lt;dbl&gt;</th><th scope=col>&lt;dbl&gt;</th><th scope=col>&lt;dbl&gt;</th></tr>\n",
       "</thead>\n",
       "<tbody>\n",
       "\t<tr><th scope=row>1</th><td> 30.862</td><td> 35.344</td><td> 32.726</td><td> 77.175</td><td> 91.565</td><td> 95.309</td><td> 82.530</td><td> 75.188</td><td> 84.919</td></tr>\n",
       "\t<tr><th scope=row>2</th><td> 33.084</td><td> 38.101</td><td> 35.895</td><td> 64.953</td><td> 72.073</td><td> 76.559</td><td> 54.110</td><td> 55.516</td><td> 56.113</td></tr>\n",
       "\t<tr><th scope=row>3</th><td>  7.676</td><td>  7.599</td><td>  7.589</td><td>  3.137</td><td>  2.525</td><td>  2.405</td><td>  1.291</td><td>  1.438</td><td>  1.356</td></tr>\n",
       "\t<tr><th scope=row>4</th><td>554.664</td><td>544.031</td><td>578.127</td><td>334.824</td><td>321.066</td><td>324.612</td><td>244.193</td><td>237.656</td><td>258.009</td></tr>\n",
       "\t<tr><th scope=row>5</th><td>127.222</td><td>126.615</td><td>140.101</td><td>289.211</td><td>308.704</td><td>276.549</td><td>484.658</td><td>429.954</td><td>508.773</td></tr>\n",
       "\t<tr><th scope=row>6</th><td>  0.053</td><td>  0.041</td><td>  0.089</td><td>  0.022</td><td>  0.015</td><td>  0.008</td><td>  0.008</td><td>  0.064</td><td>  0.010</td></tr>\n",
       "</tbody>\n",
       "</table>\n"
      ],
      "text/latex": [
       "A data.frame: 6 × 9\n",
       "\\begin{tabular}{r|lllllllll}\n",
       "  & TPM\\_HEPG2\\_RNAseq\\_DMSO.50nM\\_rep1 & TPM\\_HEPG2\\_RNAseq\\_DMSO.50nM\\_rep2 & TPM\\_HEPG2\\_RNAseq\\_DMSO.50nM\\_rep3 & TPM\\_HEPG2\\_RNAseq\\_PCB118.50microM\\_rep1 & TPM\\_HEPG2\\_RNAseq\\_PCB118.50microM\\_rep2 & TPM\\_HEPG2\\_RNAseq\\_PCB118.50microM\\_rep3 & TPM\\_HEPG2\\_RNAseq\\_PCB153.50microM\\_rep1 & TPM\\_HEPG2\\_RNAseq\\_PCB153.50microM\\_rep2 & TPM\\_HEPG2\\_RNAseq\\_PCB153.50microM\\_rep3\\\\\n",
       "  & <dbl> & <dbl> & <dbl> & <dbl> & <dbl> & <dbl> & <dbl> & <dbl> & <dbl>\\\\\n",
       "\\hline\n",
       "\t1 &  30.862 &  35.344 &  32.726 &  77.175 &  91.565 &  95.309 &  82.530 &  75.188 &  84.919\\\\\n",
       "\t2 &  33.084 &  38.101 &  35.895 &  64.953 &  72.073 &  76.559 &  54.110 &  55.516 &  56.113\\\\\n",
       "\t3 &   7.676 &   7.599 &   7.589 &   3.137 &   2.525 &   2.405 &   1.291 &   1.438 &   1.356\\\\\n",
       "\t4 & 554.664 & 544.031 & 578.127 & 334.824 & 321.066 & 324.612 & 244.193 & 237.656 & 258.009\\\\\n",
       "\t5 & 127.222 & 126.615 & 140.101 & 289.211 & 308.704 & 276.549 & 484.658 & 429.954 & 508.773\\\\\n",
       "\t6 &   0.053 &   0.041 &   0.089 &   0.022 &   0.015 &   0.008 &   0.008 &   0.064 &   0.010\\\\\n",
       "\\end{tabular}\n"
      ],
      "text/markdown": [
       "\n",
       "A data.frame: 6 × 9\n",
       "\n",
       "| <!--/--> | TPM_HEPG2_RNAseq_DMSO.50nM_rep1 &lt;dbl&gt; | TPM_HEPG2_RNAseq_DMSO.50nM_rep2 &lt;dbl&gt; | TPM_HEPG2_RNAseq_DMSO.50nM_rep3 &lt;dbl&gt; | TPM_HEPG2_RNAseq_PCB118.50microM_rep1 &lt;dbl&gt; | TPM_HEPG2_RNAseq_PCB118.50microM_rep2 &lt;dbl&gt; | TPM_HEPG2_RNAseq_PCB118.50microM_rep3 &lt;dbl&gt; | TPM_HEPG2_RNAseq_PCB153.50microM_rep1 &lt;dbl&gt; | TPM_HEPG2_RNAseq_PCB153.50microM_rep2 &lt;dbl&gt; | TPM_HEPG2_RNAseq_PCB153.50microM_rep3 &lt;dbl&gt; |\n",
       "|---|---|---|---|---|---|---|---|---|---|\n",
       "| 1 |  30.862 |  35.344 |  32.726 |  77.175 |  91.565 |  95.309 |  82.530 |  75.188 |  84.919 |\n",
       "| 2 |  33.084 |  38.101 |  35.895 |  64.953 |  72.073 |  76.559 |  54.110 |  55.516 |  56.113 |\n",
       "| 3 |   7.676 |   7.599 |   7.589 |   3.137 |   2.525 |   2.405 |   1.291 |   1.438 |   1.356 |\n",
       "| 4 | 554.664 | 544.031 | 578.127 | 334.824 | 321.066 | 324.612 | 244.193 | 237.656 | 258.009 |\n",
       "| 5 | 127.222 | 126.615 | 140.101 | 289.211 | 308.704 | 276.549 | 484.658 | 429.954 | 508.773 |\n",
       "| 6 |   0.053 |   0.041 |   0.089 |   0.022 |   0.015 |   0.008 |   0.008 |   0.064 |   0.010 |\n",
       "\n"
      ],
      "text/plain": [
       "  TPM_HEPG2_RNAseq_DMSO.50nM_rep1 TPM_HEPG2_RNAseq_DMSO.50nM_rep2\n",
       "1  30.862                          35.344                        \n",
       "2  33.084                          38.101                        \n",
       "3   7.676                           7.599                        \n",
       "4 554.664                         544.031                        \n",
       "5 127.222                         126.615                        \n",
       "6   0.053                           0.041                        \n",
       "  TPM_HEPG2_RNAseq_DMSO.50nM_rep3 TPM_HEPG2_RNAseq_PCB118.50microM_rep1\n",
       "1  32.726                          77.175                              \n",
       "2  35.895                          64.953                              \n",
       "3   7.589                           3.137                              \n",
       "4 578.127                         334.824                              \n",
       "5 140.101                         289.211                              \n",
       "6   0.089                           0.022                              \n",
       "  TPM_HEPG2_RNAseq_PCB118.50microM_rep2 TPM_HEPG2_RNAseq_PCB118.50microM_rep3\n",
       "1  91.565                                95.309                              \n",
       "2  72.073                                76.559                              \n",
       "3   2.525                                 2.405                              \n",
       "4 321.066                               324.612                              \n",
       "5 308.704                               276.549                              \n",
       "6   0.015                                 0.008                              \n",
       "  TPM_HEPG2_RNAseq_PCB153.50microM_rep1 TPM_HEPG2_RNAseq_PCB153.50microM_rep2\n",
       "1  82.530                                75.188                              \n",
       "2  54.110                                55.516                              \n",
       "3   1.291                                 1.438                              \n",
       "4 244.193                               237.656                              \n",
       "5 484.658                               429.954                              \n",
       "6   0.008                                 0.064                              \n",
       "  TPM_HEPG2_RNAseq_PCB153.50microM_rep3\n",
       "1  84.919                              \n",
       "2  56.113                              \n",
       "3   1.356                              \n",
       "4 258.009                              \n",
       "5 508.773                              \n",
       "6   0.010                              "
      ]
     },
     "metadata": {},
     "output_type": "display_data"
    },
    {
     "data": {
      "text/plain": [
       "\n",
       "FALSE  TRUE \n",
       "16537 11719 "
      ]
     },
     "metadata": {},
     "output_type": "display_data"
    }
   ],
   "source": [
    "## 1. simple way: maximum TPM value in any sample has to be above the cutoff. This means that gene is expressed in at least one replicate.\n",
    "\n",
    "# define cutoff value for expression. Genes with TPM higher than this will be considered expressed.  \n",
    "cutoff_tpm <- 1   # cutoff value for expressed genes\n",
    "\n",
    "# make character vector that contains names of TPM columns \n",
    "cols_tpm <- grep(pattern = \"TPM\", x = names(df), value = TRUE)\n",
    "cols_tpm\n",
    "\n",
    "# this vector of column names can be used to subset data frame, like this:\n",
    "head(df[, cols_tpm])\n",
    "\n",
    "# make a new column to our df with information on rows where max value is above the defined TPM cutoff\n",
    "df$is_exp <- apply(X = df[, cols_tpm], MARGIN = 1, FUN = max) > cutoff_tpm\n",
    "\n",
    "# check how many were expressed\n",
    "table(df$is_exp)\n"
   ]
  },
  {
   "cell_type": "markdown",
   "id": "0c551d65-dfc4-4b3b-a1f2-fb8d12b0ac34",
   "metadata": {},
   "source": [
    "In the treatmet-aware option we'll consider each treatment group at a time and ask if any of those has all three TPM values above the cutoff. For this we utilize `rowSums()` to calculate row sums, and logical \"or\" operator `|` also called a \"pipe\". Note that this works because we can calculate sum of logical values (TRUE = 1, FALSE = 0)."
   ]
  },
  {
   "cell_type": "code",
   "execution_count": 6,
   "id": "1cd1f65c-95ad-43a8-b504-62f8c49eddd3",
   "metadata": {},
   "outputs": [
    {
     "data": {
      "text/html": [
       "<style>\n",
       ".list-inline {list-style: none; margin:0; padding: 0}\n",
       ".list-inline>li {display: inline-block}\n",
       ".list-inline>li:not(:last-child)::after {content: \"\\00b7\"; padding: 0 .5ex}\n",
       "</style>\n",
       "<ol class=list-inline><li>'TPM_HEPG2_RNAseq_DMSO.50nM_rep1'</li><li>'TPM_HEPG2_RNAseq_DMSO.50nM_rep2'</li><li>'TPM_HEPG2_RNAseq_DMSO.50nM_rep3'</li></ol>\n"
      ],
      "text/latex": [
       "\\begin{enumerate*}\n",
       "\\item 'TPM\\_HEPG2\\_RNAseq\\_DMSO.50nM\\_rep1'\n",
       "\\item 'TPM\\_HEPG2\\_RNAseq\\_DMSO.50nM\\_rep2'\n",
       "\\item 'TPM\\_HEPG2\\_RNAseq\\_DMSO.50nM\\_rep3'\n",
       "\\end{enumerate*}\n"
      ],
      "text/markdown": [
       "1. 'TPM_HEPG2_RNAseq_DMSO.50nM_rep1'\n",
       "2. 'TPM_HEPG2_RNAseq_DMSO.50nM_rep2'\n",
       "3. 'TPM_HEPG2_RNAseq_DMSO.50nM_rep3'\n",
       "\n",
       "\n"
      ],
      "text/plain": [
       "[1] \"TPM_HEPG2_RNAseq_DMSO.50nM_rep1\" \"TPM_HEPG2_RNAseq_DMSO.50nM_rep2\"\n",
       "[3] \"TPM_HEPG2_RNAseq_DMSO.50nM_rep3\""
      ]
     },
     "metadata": {},
     "output_type": "display_data"
    },
    {
     "data": {
      "text/html": [
       "<style>\n",
       ".list-inline {list-style: none; margin:0; padding: 0}\n",
       ".list-inline>li {display: inline-block}\n",
       ".list-inline>li:not(:last-child)::after {content: \"\\00b7\"; padding: 0 .5ex}\n",
       "</style>\n",
       "<ol class=list-inline><li>'TPM_HEPG2_RNAseq_PCB118.50microM_rep1'</li><li>'TPM_HEPG2_RNAseq_PCB118.50microM_rep2'</li><li>'TPM_HEPG2_RNAseq_PCB118.50microM_rep3'</li></ol>\n"
      ],
      "text/latex": [
       "\\begin{enumerate*}\n",
       "\\item 'TPM\\_HEPG2\\_RNAseq\\_PCB118.50microM\\_rep1'\n",
       "\\item 'TPM\\_HEPG2\\_RNAseq\\_PCB118.50microM\\_rep2'\n",
       "\\item 'TPM\\_HEPG2\\_RNAseq\\_PCB118.50microM\\_rep3'\n",
       "\\end{enumerate*}\n"
      ],
      "text/markdown": [
       "1. 'TPM_HEPG2_RNAseq_PCB118.50microM_rep1'\n",
       "2. 'TPM_HEPG2_RNAseq_PCB118.50microM_rep2'\n",
       "3. 'TPM_HEPG2_RNAseq_PCB118.50microM_rep3'\n",
       "\n",
       "\n"
      ],
      "text/plain": [
       "[1] \"TPM_HEPG2_RNAseq_PCB118.50microM_rep1\"\n",
       "[2] \"TPM_HEPG2_RNAseq_PCB118.50microM_rep2\"\n",
       "[3] \"TPM_HEPG2_RNAseq_PCB118.50microM_rep3\""
      ]
     },
     "metadata": {},
     "output_type": "display_data"
    },
    {
     "data": {
      "text/html": [
       "<style>\n",
       ".list-inline {list-style: none; margin:0; padding: 0}\n",
       ".list-inline>li {display: inline-block}\n",
       ".list-inline>li:not(:last-child)::after {content: \"\\00b7\"; padding: 0 .5ex}\n",
       "</style>\n",
       "<ol class=list-inline><li>'TPM_HEPG2_RNAseq_PCB153.50microM_rep1'</li><li>'TPM_HEPG2_RNAseq_PCB153.50microM_rep2'</li><li>'TPM_HEPG2_RNAseq_PCB153.50microM_rep3'</li></ol>\n"
      ],
      "text/latex": [
       "\\begin{enumerate*}\n",
       "\\item 'TPM\\_HEPG2\\_RNAseq\\_PCB153.50microM\\_rep1'\n",
       "\\item 'TPM\\_HEPG2\\_RNAseq\\_PCB153.50microM\\_rep2'\n",
       "\\item 'TPM\\_HEPG2\\_RNAseq\\_PCB153.50microM\\_rep3'\n",
       "\\end{enumerate*}\n"
      ],
      "text/markdown": [
       "1. 'TPM_HEPG2_RNAseq_PCB153.50microM_rep1'\n",
       "2. 'TPM_HEPG2_RNAseq_PCB153.50microM_rep2'\n",
       "3. 'TPM_HEPG2_RNAseq_PCB153.50microM_rep3'\n",
       "\n",
       "\n"
      ],
      "text/plain": [
       "[1] \"TPM_HEPG2_RNAseq_PCB153.50microM_rep1\"\n",
       "[2] \"TPM_HEPG2_RNAseq_PCB153.50microM_rep2\"\n",
       "[3] \"TPM_HEPG2_RNAseq_PCB153.50microM_rep3\""
      ]
     },
     "metadata": {},
     "output_type": "display_data"
    },
    {
     "data": {
      "text/plain": [
       "\n",
       "FALSE  TRUE \n",
       "18060 10196 "
      ]
     },
     "metadata": {},
     "output_type": "display_data"
    }
   ],
   "source": [
    "## 2. treatment-aware option: TPM value in all replicates in one treatment group have to be above the cutoff value.\n",
    "# This means that gene is expressed in all three replicates of at least one treatment condition.\n",
    "\n",
    "# define cutoff value for expression. Genes with TPM higher than this will be considered expressed.  \n",
    "cutoff_tpm <- 1   # cutoff value for expressed genes\n",
    "\n",
    "# make character vector that contains names of TPM columns \n",
    "cols_tpm <- grep(pattern = \"TPM\", x = names(df), value = TRUE)\n",
    "\n",
    "# these are columns of DMSO (control) TPM values\n",
    "cols_tpm[1:3]\n",
    "\n",
    "# these are columns of PCB118 treated TPM values\n",
    "cols_tpm[4:6]\n",
    "\n",
    "# and these the same for PCB153 treated \n",
    "cols_tpm[7:9]\n",
    "\n",
    "# all replicates in DMSO and/or PCB118 and/or PCB153 are above cutoff value (the pipe character \"|\" is logical \"or\")\n",
    "df$is_exp <- (rowSums(df[,cols_tpm[1:3]] > cutoff_tpm) == 3 |\n",
    "                rowSums(df[,cols_tpm[4:6]] > cutoff_tpm) == 3 |\n",
    "                rowSums(df[,cols_tpm[7:9]] > cutoff_tpm) == 3)\n",
    "\n",
    "# check how many genes are expressed\n",
    "table(df$is_exp)"
   ]
  },
  {
   "cell_type": "markdown",
   "id": "4d3ddeed-e87b-4903-9911-5f69d1a6e6c8",
   "metadata": {},
   "source": [
    "It is sometimes useful to calculate gene-level metrics. In R, multipurpose `apply()` function is one way to do this. Here we'll calculated median expression as an example. This is added as a new column to the df. "
   ]
  },
  {
   "cell_type": "code",
   "execution_count": 7,
   "id": "6a7f8fb7-07ca-4497-b86a-3c5a2bdd209d",
   "metadata": {},
   "outputs": [
    {
     "data": {
      "text/plain": [
       "     Min.   1st Qu.    Median      Mean   3rd Qu.      Max. \n",
       "    0.000     0.000     0.089    15.256     2.108 17432.994 "
      ]
     },
     "metadata": {},
     "output_type": "display_data"
    }
   ],
   "source": [
    "#  calculated median TPM value for each gene\n",
    "df$median_exp <- apply(X = df[,cols_tpm], MARGIN = 1, FUN = median)\n",
    "\n",
    "# here, we apply the median function to each row (margin = 1) of TPM columns (df[, cols_tpm]) one at a time.\n",
    "\n",
    "# let's calculate summary statistics of these median TPM values:\n",
    "summary(df$median_exp)\n",
    "\n",
    "# use ?apply to learn more about apply\n",
    "#?apply"
   ]
  },
  {
   "cell_type": "markdown",
   "id": "bae09789-71ed-43fa-8124-d81020de0aaf",
   "metadata": {},
   "source": [
    "Here are some exercises. Create a new code cell below and try to answer these!  \n",
    "1. How would you calculated average expression of each gene? \n",
    "2. How about sum of all TPM values in each treatment? (hint: if MARGIN = 1 was rows, then what is columns?)\n",
    "3. How could you calculate summary statistics of only expressed genes?"
   ]
  },
  {
   "cell_type": "markdown",
   "id": "f397e628-1626-4894-bd9f-59fa55ab755f",
   "metadata": {},
   "source": [
    "## 3. Mark induced and repressed genes\n",
    "Next, we would like to know how many genes are differentially expressed in PCB118 or PCB153 treatments, when compared to DMSO control. We will again generate new columns to the df to indicated if they are induced (_up) or repressed (_dn) by PCB118 or PCB153. "
   ]
  },
  {
   "cell_type": "code",
   "execution_count": 8,
   "id": "85f46297-7cbc-4f09-9915-df95885896ae",
   "metadata": {},
   "outputs": [
    {
     "name": "stdout",
     "output_type": "stream",
     "text": [
      "[1] \"Number of PCB118 induced genes: 2660\"\n",
      "[1] \"Number of PCB118 repressed genes: 1818\"\n"
     ]
    }
   ],
   "source": [
    "## define cut off values\n",
    "# set  log2 fold change and adjusted p-value cutoff values\n",
    "cutoff_logfc <- 1       # log2FC of 1 equals two-times change\n",
    "cutoff_adjpval <- 0.05\n",
    "\n",
    "## PCB118 analysis ##\n",
    "## mark PCB118 induced (\"up\") and repressed (\"dn\") genes for easy sub-setting later on\n",
    "# initate column for PCB118-induced genes (set all to zero)\n",
    "df$PCB118_up <- 0\n",
    "\n",
    "# set PCB118_up value to 1 for induced genes\n",
    "df[df$DMSO.50nM_vs_PCB118.50microM_Log2_Fold_Change > cutoff_logfc & \n",
    "     df$DMSO.50nM_vs_PCB118.50microM_adj_pvalue < cutoff_adjpval,]$PCB118_up <- 1\n",
    "\n",
    "# check how many genes are induced\n",
    "print(paste0(\"Number of PCB118 induced genes: \", sum(df$PCB118_up)))\n",
    "\n",
    "# mark PCB118 repressed genes in a same way\n",
    "df$PCB118_dn <- 0\n",
    "\n",
    "# set PCB118_dn value to 1 for repressed genes\n",
    "df[df$DMSO.50nM_vs_PCB118.50microM_Log2_Fold_Change < -cutoff_logfc & \n",
    "     df$DMSO.50nM_vs_PCB118.50microM_adj_pvalue < cutoff_adjpval,]$PCB118_dn <- 1\n",
    "\n",
    "# check how many genes are induced\n",
    "print(paste0(\"Number of PCB118 repressed genes: \", sum(df$PCB118_dn)))"
   ]
  },
  {
   "cell_type": "code",
   "execution_count": 9,
   "id": "93ea9a36-6355-425e-b670-6fd9a9d4fae2",
   "metadata": {},
   "outputs": [
    {
     "name": "stdout",
     "output_type": "stream",
     "text": [
      "[1] \"Number of PCB153 induced genes: 3304\"\n",
      "[1] \"Number of PCB153 repressed genes: 2448\"\n",
      "\n",
      "Report number of differentially expressed genes in each category:"
     ]
    },
    {
     "data": {
      "text/html": [
       "<style>\n",
       ".dl-inline {width: auto; margin:0; padding: 0}\n",
       ".dl-inline>dt, .dl-inline>dd {float: none; width: auto; display: inline-block}\n",
       ".dl-inline>dt::after {content: \":\\0020\"; padding-right: .5ex}\n",
       ".dl-inline>dt:not(:first-of-type) {padding-left: .5ex}\n",
       "</style><dl class=dl-inline><dt>PCB153_up</dt><dd>3304</dd><dt>PCB118_up</dt><dd>2660</dd><dt>PCB153_dn</dt><dd>2448</dd><dt>PCB118_dn</dt><dd>1818</dd></dl>\n"
      ],
      "text/latex": [
       "\\begin{description*}\n",
       "\\item[PCB153\\textbackslash{}\\_up] 3304\n",
       "\\item[PCB118\\textbackslash{}\\_up] 2660\n",
       "\\item[PCB153\\textbackslash{}\\_dn] 2448\n",
       "\\item[PCB118\\textbackslash{}\\_dn] 1818\n",
       "\\end{description*}\n"
      ],
      "text/markdown": [
       "PCB153_up\n",
       ":   3304PCB118_up\n",
       ":   2660PCB153_dn\n",
       ":   2448PCB118_dn\n",
       ":   1818\n",
       "\n"
      ],
      "text/plain": [
       "PCB153_up PCB118_up PCB153_dn PCB118_dn \n",
       "     3304      2660      2448      1818 "
      ]
     },
     "metadata": {},
     "output_type": "display_data"
    }
   ],
   "source": [
    "## PCB153 analysis ##\n",
    "## mark PCB153 induced (\"up\") and repressed (\"dn\") genes\n",
    "# initate column (all zeros)\n",
    "df$PCB153_up <- 0\n",
    "\n",
    "# set PCB153_up value to 1 for induced genes\n",
    "df[df$DMSO.50nM_vs_PCB153.50microM_Log2_Fold_Change > cutoff_logfc & \n",
    "     df$DMSO.50nM_vs_PCB153.50microM_adj_pvalue < cutoff_adjpval,]$PCB153_up <- 1\n",
    "\n",
    "# check how many genes are induced\n",
    "print(paste0(\"Number of PCB153 induced genes: \", sum(df$PCB153_up)))\n",
    "\n",
    "## mark PCB153 repressed genes in a same way\n",
    "df$PCB153_dn <- 0\n",
    "\n",
    "# set PCB153_dn value to 1 for repressed genes\n",
    "df[df$DMSO.50nM_vs_PCB153.50microM_Log2_Fold_Change < -cutoff_logfc & \n",
    "     df$DMSO.50nM_vs_PCB153.50microM_adj_pvalue < cutoff_adjpval,]$PCB153_dn <- 1\n",
    "\n",
    "# check how many genes are repressed\n",
    "print(paste0(\"Number of PCB153 repressed genes: \", sum(df$PCB153_dn)))\n",
    "\n",
    "cat(\"\\nReport number of differentially expressed genes in each category:\")\n",
    "deg_columns <- grep(\"_up|_dn\", names(df))\n",
    "sort(apply(df[,deg_columns], 2, sum), decreasing = TRUE)\n"
   ]
  },
  {
   "cell_type": "code",
   "execution_count": 10,
   "id": "5e3d722b-ef7f-4a3a-bb8b-09536be3a6f7",
   "metadata": {},
   "outputs": [
    {
     "data": {
      "text/html": [
       "\n",
       "<table style=\"width: 100%;\"><tr><td>cat {base}</td><td style=\"text-align: right;\">R Documentation</td></tr></table>\n",
       "\n",
       "<h2>Concatenate and Print</h2>\n",
       "\n",
       "<h3>Description</h3>\n",
       "\n",
       "<p>Outputs the objects, concatenating the representations.  <code>cat</code>\n",
       "performs much less conversion than <code>print</code>.\n",
       "</p>\n",
       "\n",
       "\n",
       "<h3>Usage</h3>\n",
       "\n",
       "<pre><code class='language-R'>cat(... , file = \"\", sep = \" \", fill = FALSE, labels = NULL,\n",
       "    append = FALSE)\n",
       "</code></pre>\n",
       "\n",
       "\n",
       "<h3>Arguments</h3>\n",
       "\n",
       "<table>\n",
       "<tr style=\"vertical-align: top;\"><td><code>...</code></td>\n",
       "<td>\n",
       "<p><span style=\"font-family: Courier New, Courier; color: #666666;\"><b>R</b></span> objects (see &lsquo;Details&rsquo; for the types of objects\n",
       "allowed).</p>\n",
       "</td></tr>\n",
       "<tr style=\"vertical-align: top;\"><td><code>file</code></td>\n",
       "<td>\n",
       "<p>A connection, or a character string naming the file\n",
       "to print to.  If <code>\"\"</code> (the default), <code>cat</code> prints to the\n",
       "standard output connection, the console unless redirected by\n",
       "<code>sink</code>.\n",
       "</p>\n",
       "</td></tr>\n",
       "<tr style=\"vertical-align: top;\"><td><code>sep</code></td>\n",
       "<td>\n",
       "<p>a character vector of strings to append after each element.</p>\n",
       "</td></tr>\n",
       "<tr style=\"vertical-align: top;\"><td><code>fill</code></td>\n",
       "<td>\n",
       "<p>a logical or (positive) numeric controlling how the output is\n",
       "broken into successive lines.  If <code>FALSE</code> (default), only newlines\n",
       "created explicitly by &lsquo;<span class=\"samp\">&#8288;\"\\n\"&#8288;</span>&rsquo; are printed.  Otherwise, the\n",
       "output is broken into lines with print width equal to the option\n",
       "<code>width</code> if <code>fill</code> is <code>TRUE</code>, or the value of\n",
       "<code>fill</code> if this is numeric.  Linefeeds are only inserted\n",
       "<em>between</em> elements, strings wider than <code>fill</code> are not\n",
       "wrapped.  Non-positive <code>fill</code> values are\n",
       "ignored, with a warning.</p>\n",
       "</td></tr>\n",
       "<tr style=\"vertical-align: top;\"><td><code>labels</code></td>\n",
       "<td>\n",
       "<p>character vector of labels for the lines printed.\n",
       "Ignored if <code>fill</code> is <code>FALSE</code>.</p>\n",
       "</td></tr>\n",
       "<tr style=\"vertical-align: top;\"><td><code>append</code></td>\n",
       "<td>\n",
       "<p>logical. Only used if the argument <code>file</code> is the\n",
       "name of file (and not a connection or <code>\"|cmd\"</code>).\n",
       "If <code>TRUE</code> output will be appended to\n",
       "<code>file</code>; otherwise, it will overwrite the contents of\n",
       "<code>file</code>.</p>\n",
       "</td></tr>\n",
       "</table>\n",
       "\n",
       "\n",
       "<h3>Details</h3>\n",
       "\n",
       "<p><code>cat</code> is useful for producing output in user-defined functions.\n",
       "It converts its arguments to character vectors, concatenates\n",
       "them to a single character vector, appends the given <code>sep = </code>\n",
       "string(s) to each element and then outputs them.\n",
       "</p>\n",
       "<p>No line feeds (aka &ldquo;newline&rdquo;s) are output unless explicitly\n",
       "requested by &lsquo;<span class=\"samp\">&#8288;\"\\n\"&#8288;</span>&rsquo;\n",
       "or if generated by filling (if argument <code>fill</code> is <code>TRUE</code> or\n",
       "numeric).\n",
       "</p>\n",
       "<p>If <code>file</code> is a connection and open for writing it is written from\n",
       "its current position.  If it is not open, it is opened for the\n",
       "duration of the call in <code>\"wt\"</code> mode and then closed again.\n",
       "</p>\n",
       "<p>Currently only atomic vectors and names are handled,\n",
       "together with <code>NULL</code> and other zero-length objects (which produce\n",
       "no output).  Character strings are output &lsquo;as is&rsquo; (unlike\n",
       "<code>print.default</code> which escapes non-printable characters and\n",
       "backslash &mdash; use <code>encodeString</code> if you want to output\n",
       "encoded strings using <code>cat</code>).  Other types of <span style=\"font-family: Courier New, Courier; color: #666666;\"><b>R</b></span> object should be\n",
       "converted (e.g., by <code>as.character</code> or <code>format</code>)\n",
       "before being passed to <code>cat</code>.  That includes factors, which are\n",
       "output as integer vectors.\n",
       "</p>\n",
       "<p><code>cat</code> converts numeric/complex elements in the same way as\n",
       "<code>print</code> (and not in the same way as <code>as.character</code>\n",
       "which is used by the S equivalent), so <code>options</code>\n",
       "<code>\"digits\"</code> and <code>\"scipen\"</code> are relevant.  However, it uses\n",
       "the minimum field width necessary for each element, rather than the\n",
       "same field width for all elements.\n",
       "</p>\n",
       "\n",
       "\n",
       "<h3>Value</h3>\n",
       "\n",
       "<p>None (invisible <code>NULL</code>).\n",
       "</p>\n",
       "\n",
       "\n",
       "<h3>Note</h3>\n",
       "\n",
       "<p>If any element of <code>sep</code> contains a newline character, it is\n",
       "treated as a vector of terminators rather than separators, an element\n",
       "being output after every vector element <em>and</em> a newline after the\n",
       "last.  Entries are recycled as needed.\n",
       "</p>\n",
       "\n",
       "\n",
       "<h3>References</h3>\n",
       "\n",
       "<p>Becker, R. A., Chambers, J. M. and Wilks, A. R. (1988)\n",
       "<em>The New S Language</em>.\n",
       "Wadsworth &amp; Brooks/Cole.\n",
       "</p>\n",
       "\n",
       "\n",
       "<h3>See Also</h3>\n",
       "\n",
       "<p><code>print</code>, <code>format</code>, and <code>paste</code>\n",
       "which concatenates into a string.\n",
       "</p>\n",
       "\n",
       "\n",
       "<h3>Examples</h3>\n",
       "\n",
       "<pre><code class='language-R'>iter &lt;- stats::rpois(1, lambda = 10)\n",
       "## print an informative message\n",
       "cat(\"iteration = \", iter &lt;- iter + 1, \"\\n\")\n",
       "\n",
       "## 'fill' and label lines:\n",
       "cat(paste(letters, 100* 1:26), fill = TRUE, labels = paste0(\"{\", 1:10, \"}:\"))\n",
       "</code></pre>\n",
       "\n",
       "<hr /><div style=\"text-align: center;\">[Package <em>base</em> version 4.2.2 ]</div>\n",
       "</div>"
      ],
      "text/latex": [
       "\\inputencoding{utf8}\n",
       "\\HeaderA{cat}{Concatenate and Print}{cat}\n",
       "\\keyword{print}{cat}\n",
       "\\keyword{file}{cat}\n",
       "\\keyword{connection}{cat}\n",
       "%\n",
       "\\begin{Description}\\relax\n",
       "Outputs the objects, concatenating the representations.  \\code{cat}\n",
       "performs much less conversion than \\code{\\LinkA{print}{print}}.\n",
       "\\end{Description}\n",
       "%\n",
       "\\begin{Usage}\n",
       "\\begin{verbatim}\n",
       "cat(... , file = \"\", sep = \" \", fill = FALSE, labels = NULL,\n",
       "    append = FALSE)\n",
       "\\end{verbatim}\n",
       "\\end{Usage}\n",
       "%\n",
       "\\begin{Arguments}\n",
       "\\begin{ldescription}\n",
       "\\item[\\code{...}] \\R{} objects (see `Details' for the types of objects\n",
       "allowed).\n",
       "\\item[\\code{file}] A \\LinkA{connection}{connection}, or a character string naming the file\n",
       "to print to.  If \\code{\"\"} (the default), \\code{cat} prints to the\n",
       "standard output connection, the console unless redirected by\n",
       "\\code{\\LinkA{sink}{sink}}.\n",
       "\n",
       "\\item[\\code{sep}] a character vector of strings to append after each element.\n",
       "\\item[\\code{fill}] a logical or (positive) numeric controlling how the output is\n",
       "broken into successive lines.  If \\code{FALSE} (default), only newlines\n",
       "created explicitly by \\samp{\"\\bsl{}n\"} are printed.  Otherwise, the\n",
       "output is broken into lines with print width equal to the option\n",
       "\\code{width} if \\code{fill} is \\code{TRUE}, or the value of\n",
       "\\code{fill} if this is numeric.  Linefeeds are only inserted\n",
       "\\emph{between} elements, strings wider than \\code{fill} are not\n",
       "wrapped.  Non-positive \\code{fill} values are\n",
       "ignored, with a warning.\n",
       "\\item[\\code{labels}] character vector of labels for the lines printed.\n",
       "Ignored if \\code{fill} is \\code{FALSE}.\n",
       "\\item[\\code{append}] logical. Only used if the argument \\code{file} is the\n",
       "name of file (and not a connection or \\code{\"|cmd\"}).\n",
       "If \\code{TRUE} output will be appended to\n",
       "\\code{file}; otherwise, it will overwrite the contents of\n",
       "\\code{file}.\n",
       "\\end{ldescription}\n",
       "\\end{Arguments}\n",
       "%\n",
       "\\begin{Details}\\relax\n",
       "\\code{cat} is useful for producing output in user-defined functions.\n",
       "It converts its arguments to character vectors, concatenates\n",
       "them to a single character vector, appends the given \\code{sep = }\n",
       "string(s) to each element and then outputs them.\n",
       "\n",
       "No line feeds (aka ``newline''s) are output unless explicitly\n",
       "requested by \\samp{\"\\bsl{}n\"}\n",
       "or if generated by filling (if argument \\code{fill} is \\code{TRUE} or\n",
       "numeric).\n",
       "\n",
       "If \\code{file} is a connection and open for writing it is written from\n",
       "its current position.  If it is not open, it is opened for the\n",
       "duration of the call in \\code{\"wt\"} mode and then closed again.\n",
       "\n",
       "Currently only \\LinkA{atomic}{atomic} vectors and \\LinkA{name}{name}s are handled,\n",
       "together with \\code{NULL} and other zero-length objects (which produce\n",
       "no output).  Character strings are output `as is' (unlike\n",
       "\\code{\\LinkA{print.default}{print.default}} which escapes non-printable characters and\n",
       "backslash --- use \\code{\\LinkA{encodeString}{encodeString}} if you want to output\n",
       "encoded strings using \\code{cat}).  Other types of \\R{} object should be\n",
       "converted (e.g., by \\code{\\LinkA{as.character}{as.character}} or \\code{\\LinkA{format}{format}})\n",
       "before being passed to \\code{cat}.  That includes factors, which are\n",
       "output as integer vectors.\n",
       "\n",
       "\\code{cat} converts numeric/complex elements in the same way as\n",
       "\\code{print} (and not in the same way as \\code{\\LinkA{as.character}{as.character}}\n",
       "which is used by the S equivalent), so \\code{\\LinkA{options}{options}}\n",
       "\\code{\"digits\"} and \\code{\"scipen\"} are relevant.  However, it uses\n",
       "the minimum field width necessary for each element, rather than the\n",
       "same field width for all elements.\n",
       "\\end{Details}\n",
       "%\n",
       "\\begin{Value}\n",
       "None (invisible \\code{NULL}).\n",
       "\\end{Value}\n",
       "%\n",
       "\\begin{Note}\\relax\n",
       "If any element of \\code{sep} contains a newline character, it is\n",
       "treated as a vector of terminators rather than separators, an element\n",
       "being output after every vector element \\emph{and} a newline after the\n",
       "last.  Entries are recycled as needed.\n",
       "\\end{Note}\n",
       "%\n",
       "\\begin{References}\\relax\n",
       "Becker, R. A., Chambers, J. M. and Wilks, A. R. (1988)\n",
       "\\emph{The New S Language}.\n",
       "Wadsworth \\& Brooks/Cole.\n",
       "\\end{References}\n",
       "%\n",
       "\\begin{SeeAlso}\\relax\n",
       "\\code{\\LinkA{print}{print}}, \\code{\\LinkA{format}{format}}, and \\code{\\LinkA{paste}{paste}}\n",
       "which concatenates into a string.\n",
       "\\end{SeeAlso}\n",
       "%\n",
       "\\begin{Examples}\n",
       "\\begin{ExampleCode}\n",
       "iter <- stats::rpois(1, lambda = 10)\n",
       "## print an informative message\n",
       "cat(\"iteration = \", iter <- iter + 1, \"\\n\")\n",
       "\n",
       "## 'fill' and label lines:\n",
       "cat(paste(letters, 100* 1:26), fill = TRUE, labels = paste0(\"{\", 1:10, \"}:\"))\n",
       "\\end{ExampleCode}\n",
       "\\end{Examples}"
      ],
      "text/plain": [
       "cat                    package:base                    R Documentation\n",
       "\n",
       "_\bC_\bo_\bn_\bc_\ba_\bt_\be_\bn_\ba_\bt_\be _\ba_\bn_\bd _\bP_\br_\bi_\bn_\bt\n",
       "\n",
       "_\bD_\be_\bs_\bc_\br_\bi_\bp_\bt_\bi_\bo_\bn:\n",
       "\n",
       "     Outputs the objects, concatenating the representations.  'cat'\n",
       "     performs much less conversion than 'print'.\n",
       "\n",
       "_\bU_\bs_\ba_\bg_\be:\n",
       "\n",
       "     cat(... , file = \"\", sep = \" \", fill = FALSE, labels = NULL,\n",
       "         append = FALSE)\n",
       "     \n",
       "_\bA_\br_\bg_\bu_\bm_\be_\bn_\bt_\bs:\n",
       "\n",
       "     ...: R objects (see 'Details' for the types of objects allowed).\n",
       "\n",
       "    file: A connection, or a character string naming the file to print\n",
       "          to.  If '\"\"' (the default), 'cat' prints to the standard\n",
       "          output connection, the console unless redirected by 'sink'.\n",
       "\n",
       "     sep: a character vector of strings to append after each element.\n",
       "\n",
       "    fill: a logical or (positive) numeric controlling how the output is\n",
       "          broken into successive lines.  If 'FALSE' (default), only\n",
       "          newlines created explicitly by '\"\\n\"' are printed.\n",
       "          Otherwise, the output is broken into lines with print width\n",
       "          equal to the option 'width' if 'fill' is 'TRUE', or the value\n",
       "          of 'fill' if this is numeric.  Linefeeds are only inserted\n",
       "          _between_ elements, strings wider than 'fill' are not\n",
       "          wrapped.  Non-positive 'fill' values are ignored, with a\n",
       "          warning.\n",
       "\n",
       "  labels: character vector of labels for the lines printed.  Ignored if\n",
       "          'fill' is 'FALSE'.\n",
       "\n",
       "  append: logical. Only used if the argument 'file' is the name of file\n",
       "          (and not a connection or '\"|cmd\"').  If 'TRUE' output will be\n",
       "          appended to 'file'; otherwise, it will overwrite the contents\n",
       "          of 'file'.\n",
       "\n",
       "_\bD_\be_\bt_\ba_\bi_\bl_\bs:\n",
       "\n",
       "     'cat' is useful for producing output in user-defined functions.\n",
       "     It converts its arguments to character vectors, concatenates them\n",
       "     to a single character vector, appends the given 'sep = ' string(s)\n",
       "     to each element and then outputs them.\n",
       "\n",
       "     No line feeds (aka \"newline\"s) are output unless explicitly\n",
       "     requested by '\"\\n\"' or if generated by filling (if argument 'fill'\n",
       "     is 'TRUE' or numeric).\n",
       "\n",
       "     If 'file' is a connection and open for writing it is written from\n",
       "     its current position.  If it is not open, it is opened for the\n",
       "     duration of the call in '\"wt\"' mode and then closed again.\n",
       "\n",
       "     Currently only atomic vectors and names are handled, together with\n",
       "     'NULL' and other zero-length objects (which produce no output).\n",
       "     Character strings are output 'as is' (unlike 'print.default' which\n",
       "     escapes non-printable characters and backslash - use\n",
       "     'encodeString' if you want to output encoded strings using 'cat').\n",
       "     Other types of R object should be converted (e.g., by\n",
       "     'as.character' or 'format') before being passed to 'cat'.  That\n",
       "     includes factors, which are output as integer vectors.\n",
       "\n",
       "     'cat' converts numeric/complex elements in the same way as 'print'\n",
       "     (and not in the same way as 'as.character' which is used by the S\n",
       "     equivalent), so 'options' '\"digits\"' and '\"scipen\"' are relevant.\n",
       "     However, it uses the minimum field width necessary for each\n",
       "     element, rather than the same field width for all elements.\n",
       "\n",
       "_\bV_\ba_\bl_\bu_\be:\n",
       "\n",
       "     None (invisible 'NULL').\n",
       "\n",
       "_\bN_\bo_\bt_\be:\n",
       "\n",
       "     If any element of 'sep' contains a newline character, it is\n",
       "     treated as a vector of terminators rather than separators, an\n",
       "     element being output after every vector element _and_ a newline\n",
       "     after the last.  Entries are recycled as needed.\n",
       "\n",
       "_\bR_\be_\bf_\be_\br_\be_\bn_\bc_\be_\bs:\n",
       "\n",
       "     Becker, R. A., Chambers, J. M. and Wilks, A. R. (1988) _The New S\n",
       "     Language_.  Wadsworth & Brooks/Cole.\n",
       "\n",
       "_\bS_\be_\be _\bA_\bl_\bs_\bo:\n",
       "\n",
       "     'print', 'format', and 'paste' which concatenates into a string.\n",
       "\n",
       "_\bE_\bx_\ba_\bm_\bp_\bl_\be_\bs:\n",
       "\n",
       "     iter <- stats::rpois(1, lambda = 10)\n",
       "     ## print an informative message\n",
       "     cat(\"iteration = \", iter <- iter + 1, \"\\n\")\n",
       "     \n",
       "     ## 'fill' and label lines:\n",
       "     cat(paste(letters, 100* 1:26), fill = TRUE, labels = paste0(\"{\", 1:10, \"}:\"))\n",
       "     "
      ]
     },
     "metadata": {},
     "output_type": "display_data"
    }
   ],
   "source": [
    "?cat"
   ]
  },
  {
   "cell_type": "markdown",
   "id": "7c610de7-236c-466d-9049-4209074bbf28",
   "metadata": {},
   "source": [
    "## 4. Principal component analysis (PCA)\n",
    "A common way to analyze sample-level similarities is **[PCA](https://en.wikipedia.org/wiki/Principal_component_analysis)**. PCA is a dimensionality reduction method that transforms data to principal compontents that capture most variation in the data. In this way, it is easy to examine for example if all replicates of the same treatment group cluster together as they should. PCA can also inform about **[batch effects](https://en.wikipedia.org/wiki/Batch_effect)**, non-biological variation stemming from sample preparation. If there are batch effects, the samples might cluster based on batches, not based on treatments, in a PCA plot.  \n",
    "\n",
    "Here we use `as.matrix()` function to convert subset of the data.frame to a matrix named ma (only numerical information). The ma is Z-score normalized with `scaled()` function and `prcomp()` is used to calculate principal components. `prcomp()` expects the input matrix in different orientation, which is why we need to transpose it with `t()` function.  \n",
    "\n",
    "Next, we use basic `plot()` function and a very versatile `ggplot()`function to plot two graphs. If you want to save the output figure(s) to your computer, you can uncomment `pdf()` and `dev.off()` lines (uncomment = remove the \"#\" from the beginning of these lines). The first `pdf()` opens a pdf file and `dev.off()` closes it, so it is important to run both.  \n",
    "Note that additional graphical elements and be added to a plot by adding \"+\" to the end and just writing a new function after that (eg. `plot(...)+ title(...)`). Remember to leave \"+\" out from the last function!"
   ]
  },
  {
   "cell_type": "code",
   "execution_count": 11,
   "id": "201c0321-8af6-4af4-bf69-238d77af8cb8",
   "metadata": {},
   "outputs": [
    {
     "data": {
      "text/html": [],
      "text/latex": [],
      "text/markdown": [],
      "text/plain": [
       "integer(0)"
      ]
     },
     "metadata": {},
     "output_type": "display_data"
    },
    {
     "data": {
      "image/png": "[encoded data removed]",
      "text/plain": [
       "Plot with title \"% of variance explained by each principal component\""
      ]
     },
     "metadata": {
      "image/png": {
       "height": 420,
       "width": 420
      }
     },
     "output_type": "display_data"
    },
    {
     "data": {
      "image/png": "[encoded data removed]",
      "text/plain": [
       "plot without title"
      ]
     },
     "metadata": {
      "image/png": {
       "height": 420,
       "width": 420
      }
     },
     "output_type": "display_data"
    }
   ],
   "source": [
    "## PCA using log transformed TPM values of expressed genes\n",
    "# generate a matrix with TPM values of expressed genes\n",
    "ma <- as.matrix(df[df$is_exp == 1, cols_tpm])\n",
    "\n",
    "# standardize data (mean = 0, variance = 1)\n",
    "ma_s <- scale(ma)\n",
    "\n",
    "# make PCA using prcomp\n",
    "ma_pca <- prcomp(t(ma_s), center = TRUE, scale. = TRUE) # center to zero, scale according to unit variance\n",
    "\n",
    "# calculated percentage of variance explained by PCs (sd is sqr of variance)\n",
    "perc_var <- lapply(seq_along(ma_pca$sdev), function(i){\n",
    "  perc <- round(ma_pca$sdev[i]^2 / sum((ma_pca$sdev)^2)*100, 2)\n",
    "  return(perc)\n",
    "}\n",
    ")\n",
    "\n",
    "# plot % variances of each principal component\n",
    "plot(unlist(perc_var), type = \"b\")+\n",
    "  title(main = \"% of variance explained by each principal component\")\n",
    "\n",
    "# make data.frame with PC scores and sample labels\n",
    "df_pca <- as.data.frame(ma_pca$x)\n",
    "df_pca$treatment <- gsub(\"[.].*\", \"\", gsub(\"TPM_HEPG2_RNAseq_\", \"\", row.names(ma_pca$x)))\n",
    "df_pca$replicate <- gsub(\".*rep\", \"\", row.names(ma_pca$x))\n",
    "df_pca$label <- paste0(df_pca$treatment, \"-\", df_pca$replicate)\n",
    "\n",
    "# plot PC1 vs PC2\n",
    "# pdf(paste0(home_dir,\"/PCA_of_exp_genes_TPM\",round(cutoff_tpm, 3),\".pdf\"), width = 9, height = 8)\n",
    "ggplot(df_pca, aes(x = PC1, \n",
    "                   y = PC2, \n",
    "                   color = treatment, \n",
    "                   label = label, \n",
    "                   shape = replicate))+\n",
    "  theme_classic()+\n",
    "  labs(title = paste0(\"PCA of expressed genes (TPM > \", cutoff_tpm, \", # genes:\", dim(ma)[1], \")\"),\n",
    "       x = paste0(\"PC1: \", perc_var[1],\"% of variance explaned\"), \n",
    "       y = paste0(\"PC2: \", perc_var[2],\"% of variance explaned\"))+\n",
    "  geom_label_repel(aes(label = label),\n",
    "                   box.padding   = 0.5,\n",
    "                   point.padding = 0.5,\n",
    "                   max.overlaps = 10,\n",
    "                   segment.color = 'grey50') +\n",
    "  geom_point(size = 5)\n",
    "# dev.off()"
   ]
  },
  {
   "cell_type": "code",
   "execution_count": 12,
   "id": "a5138272-d9fe-4902-b00d-5b63ee01a732",
   "metadata": {},
   "outputs": [],
   "source": [
    "# exercise: copy and modify the above code to plot next principal components: PC3 and PC4"
   ]
  },
  {
   "cell_type": "markdown",
   "id": "7f31dd5e-3022-4c25-a890-c3ba81cedceb",
   "metadata": {},
   "source": [
    "## 5. Volcano-plot\n",
    "A common way to visualize DGE data is volcano-plot, where logFC and -log10(p-value) are plotted. Plotting -log(p-value) instead of p-value is a common trick in visualizations. The -log transformation emphasizes small p-values (close to 0) by transforming them to large values while large p-values (close to 1) are transformed to small values.  \n",
    "Let's make one volcano-plot next :) In this case we first save the image to an R object first before drawing it (`p1 <- ggplot(...)`). One advantage of this is that we can later show several images in a grid. "
   ]
  },
  {
   "cell_type": "code",
   "execution_count": 13,
   "id": "f8f17395-11de-4db5-9d3e-1696b7efd42c",
   "metadata": {},
   "outputs": [
    {
     "data": {
      "image/png": "[encoded data removed]",
      "text/plain": [
       "plot without title"
      ]
     },
     "metadata": {
      "image/png": {
       "height": 420,
       "width": 420
      }
     },
     "output_type": "display_data"
    }
   ],
   "source": [
    "## volcano plots from expressed genes\n",
    "\n",
    "## PCB118 volcano plot\n",
    "# colnames(df) # check how columns are named\n",
    "# subset PCB118 logFC and adj. p-value columns of expressed genes\n",
    "vp <- df[df$is_exp == 1, \n",
    "         c(\"symbol\",\n",
    "           \"DMSO.50nM_vs_PCB118.50microM_Log2_Fold_Change\",\n",
    "           \"DMSO.50nM_vs_PCB118.50microM_adj_pvalue\",\n",
    "           \"PCB118_up\",\n",
    "           \"PCB118_dn\")]\n",
    "\n",
    "#simplify column names\n",
    "colnames(vp) <- c(\"symbol\", \"logfc\", \"adjpval\", \"up\", \"dn\")\n",
    "\n",
    "# make one column for the direction of change (1 is up and -1 is down)\n",
    "vp$deg_direction <- as.factor(vp$up - vp$dn)\n",
    "\n",
    "# remove NAs\n",
    "vp <- na.omit(vp)\n",
    "\n",
    "## make volcano plot\n",
    "# pdf(file = paste0(home_dir, \"/volcano_plot_PCB118.pdf\"))\n",
    "p1 <- ggplot(vp, aes(x = logfc, y = -log10(adjpval)))+\n",
    "  theme_classic()+\n",
    "  theme(legend.position = \"bottom\", plot.title = element_text(hjust = 0.5, size = 10))+\n",
    "  geom_vline(xintercept = cutoff_logfc, lty = 2, color = \"gray\")+\n",
    "  geom_vline(xintercept = -cutoff_logfc, lty = 2, color = \"gray\")+\n",
    "  geom_hline(yintercept = -log10(cutoff_adjpval), lty = 2, color = \"gray\")+\n",
    "  geom_point(aes(col = deg_direction))+\n",
    "  labs(title = \"Volcano plot of PCB118 treatment\")+\n",
    "  scale_color_manual(values=c(\"blue2\", \"gray\", \"firebrick2\"))\n",
    "p1\n",
    "# dev.off()"
   ]
  },
  {
   "cell_type": "code",
   "execution_count": 14,
   "id": "c5bb2661-070b-4889-a280-bbf80a3b35b6",
   "metadata": {},
   "outputs": [],
   "source": [
    "## PCB153 volcano plot\n",
    "# copy and modify above code to generate this plot :)\n",
    "#vp2 <- ...\n",
    "\n",
    "#p2 <- ...\n",
    "\n",
    "## show several plots as a grid\n",
    "# pdf(paste0(home_dir, \"/figures/HEPG2_volcanos.pdf\"))\n",
    "\n",
    "# show both volcano-plots (p1 and p2) in one figure\n",
    "#do.call(grid.arrange, list(p1, p2))\n",
    "\n",
    "# dev.off()\n"
   ]
  },
  {
   "cell_type": "markdown",
   "id": "d968e419-616d-41e4-bd8e-ab9c38f5c3a2",
   "metadata": {},
   "source": [
    "## 6. Heat map of DEGs\n",
    "Perhaps the most common visualization of RNA-seq data analysis is the heat map. In heatmap, each row represents one gene and each column one sample, while colors indicate expression level. Gene expression varies a lot from gene to gene, and therefore it is a good idea to use **[Z-score](https://en.wikipedia.org/wiki/Standard_score)** normalized expression values (each gene will have mean of 0 and variance of 1 with `scale()` function).  \n",
    "Next, `Heatmap()` function from ComplexHeatmap package is used to plot the heatmap. "
   ]
  },
  {
   "cell_type": "code",
   "execution_count": 15,
   "id": "6998c12c-b5f8-45df-97d2-8532b924b6f0",
   "metadata": {},
   "outputs": [
    {
     "data": {
      "image/png": "[encoded data removed]",
      "text/plain": [
       "plot without title"
      ]
     },
     "metadata": {
      "image/png": {
       "height": 420,
       "width": 420
      }
     },
     "output_type": "display_data"
    }
   ],
   "source": [
    "# make dataframe for heatmap annotations\n",
    "hm_annotations <- data.frame(cols_tpm) \n",
    "hm_annotations$group <- gsub(\"[.].*\", \"\", gsub(\"TPM_HEPG2_RNAseq_\", \"\", cols_tpm))\n",
    "hm_annotations$replicate <- gsub(\".*rep\", \"\", cols_tpm)\n",
    "\n",
    "# define group colors for consistent coloring\n",
    "# hm_group_cols <- c(\"gray80\", wes_palette(\"GrandBudapest2\")[1:2])\n",
    "hm_group_cols <- c(\"gray80\",  \"#E6A0C4\", \"#C6CDF7\")\n",
    "names(hm_group_cols) <- unique(hm_annotations$group)\n",
    "\n",
    "\n",
    "### PCB118 heatmap\n",
    "## extract TPM columns of expressed, PCB118 induced or repressed genes as a matrix\n",
    "hm <- as.matrix(df[(df$PCB118_up == 1 | df$PCB118_dn == 1) & df$is_exp == 1, cols_tpm])\n",
    "# colnames(hm)\n",
    "\n",
    "# Z-score scaling of data (mean = 0, variance = 1)\n",
    "hm_s <- t(apply(hm, 1, scale))\n",
    "\n",
    "# draw heatmap with annotations\n",
    "# pdf(paste0(home_dir, \"/HepG2_DEG_hm_TPM\",round(cutoff_tpm, 3),\"_pval\"cutoff_adjpval,\"_logFC\",cutoff_logfc,\".pdf\"))\n",
    "Heatmap(hm_s,\n",
    "        show_row_names = FALSE,\n",
    "        name = \"Z-score\",\n",
    "        column_title = paste0(\"HepG2 PCB118-responsive genes (# of genes: \", dim(hm_s)[1],\")\"),\n",
    "        row_title = paste0(\"DE genes (P < \", cutoff_adjpval, \", |logFC| > \", cutoff_logfc, \n",
    "                           \", TPM > \", round(cutoff_tpm, 3),\")\"),\n",
    "        \n",
    "        top_annotation = HeatmapAnnotation(group = hm_annotations$group, \n",
    "                                           rep = anno_text(hm_annotations$replicate, rot = 0, just = 0.5, location = 0.4), \n",
    "                                           col = list(group = hm_group_cols),\n",
    "                                           annotation_label = c(\"treatment\", \"replicate\"))\n",
    ")\n",
    "# dev.off()\n"
   ]
  },
  {
   "cell_type": "code",
   "execution_count": 16,
   "id": "25bc974f-7a6a-4b9a-96f7-0d76b2ba836e",
   "metadata": {},
   "outputs": [],
   "source": [
    "## PCB153 heatmap\n",
    "# copy and modify the above code to make heat map for PCB153 DEGs\n"
   ]
  },
  {
   "cell_type": "markdown",
   "id": "8f763f2c-37a9-412d-ace8-088d99f43dac",
   "metadata": {},
   "source": [
    "## 7. UpSet plot\n",
    "Venn-diagrams are a common way to compare similarities of sets. However, they only work to three (or so) samples. An alternative is an **[UpSet plot](https://en.wikipedia.org/wiki/UpSet_plot)** that can be a powerful way to compare multiple datasets.  \n",
    "Let's use `make_comb_mat()` and `UpSet()` functions to make an UpSet plot that compares all DEG categories against each other."
   ]
  },
  {
   "cell_type": "code",
   "execution_count": 17,
   "id": "3265d613-f839-4ede-8665-e4ece98c371c",
   "metadata": {},
   "outputs": [
    {
     "data": {
      "image/png": "[encoded data removed]",
      "text/plain": [
       "plot without title"
      ]
     },
     "metadata": {
      "image/png": {
       "height": 420,
       "width": 420
      }
     },
     "output_type": "display_data"
    }
   ],
   "source": [
    "## column vector for induced (_up) or repressed (_dn) genes\n",
    "cols_upset <- grep(\"_up|_dn\", colnames(df), value = TRUE)\n",
    "\n",
    "# make \"up\" data frame \n",
    "up <- df[, cols_upset]\n",
    "up <- up[rowSums(up) >0, ] # keep only non-zero columns\n",
    "# head(up)\n",
    "\n",
    "# make a combination matrix for visualization\n",
    "up_cm <- make_comb_mat(up, mode = \"distinct\") \n",
    "# up_cm\n",
    "\n",
    "# select colors for DEG categories\n",
    "up_colors <- c(\"#1F78B4\", \"#A6CEE3\", \"#33A02C\",\"#B2DF8A\")\n",
    "\n",
    "# pdf(paste0(home_dir, \"/HepG2_DEG_upSet.pdf\"), height = 5, width = 7)\n",
    "UpSet(up_cm, \n",
    "      comb_order = order(-comb_size(up_cm)), \n",
    "      right_annotation = upset_right_annotation(up_cm, gp = gpar(fill = up_colors)),\n",
    "      column_title = paste0(\"Overlap of PCB118 and PCB153 DEGs\"))\n",
    "# dev.off()"
   ]
  },
  {
   "cell_type": "code",
   "execution_count": 18,
   "id": "0150a745-408e-4030-ac5a-cc8a9f64a20b",
   "metadata": {},
   "outputs": [],
   "source": [
    "# let's save the df as an R object for tomorrow!\n",
    "saveRDS(df, paste0(home_dir, \"/../Day2_GSEA_Lisa/df.rds\"))"
   ]
  },
  {
   "cell_type": "markdown",
   "id": "15e9e46d-4bf8-487c-937e-3d9534e6f9d1",
   "metadata": {},
   "source": [
    "## END OF DAY 1 \n",
    "That's it for the day one :) "
   ]
  }
 ],
 "metadata": {
  "kernelspec": {
   "display_name": "R",
   "language": "R",
   "name": "ir"
  },
  "language_info": {
   "codemirror_mode": "r",
   "file_extension": ".r",
   "mimetype": "text/x-r-source",
   "name": "R",
   "pygments_lexer": "r",
   "version": "4.2.2"
  }
 },
 "nbformat": 4,
 "nbformat_minor": 5
}
